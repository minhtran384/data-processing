{
  "nbformat": 4,
  "nbformat_minor": 0,
  "metadata": {
    "colab": {
      "name": "30475422_ass_3.ipynb",
      "provenance": [],
      "toc_visible": true
    },
    "kernelspec": {
      "name": "python3",
      "display_name": "Python 3"
    }
  },
  "cells": [
    {
      "cell_type": "markdown",
      "metadata": {
        "id": "KDVhVBGvOW_0"
      },
      "source": [
        "## FIT5196-S2-2020 ASSESSEMENT 3\n",
        "#### Student name: Binh MinH Tran\n",
        "#### Student ID: 30475422"
      ]
    },
    {
      "cell_type": "markdown",
      "metadata": {
        "id": "jEotkBMuOabB"
      },
      "source": [
        "## Task 1: Data Integration"
      ]
    },
    {
      "cell_type": "markdown",
      "metadata": {
        "id": "GkjMpXL4Occx"
      },
      "source": [
        "Integrate 7 different input datasets including:\n",
        "* Hospitals (pdf file)\n",
        "* Supermarkets (excel file)\n",
        "* Shopping centers (html file)\n",
        "* Real estate (json and xml files)\n",
        "* Vic_suburb_boundary\n",
        "* GTFS_Melbourne_Train_Information "
      ]
    },
    {
      "cell_type": "markdown",
      "metadata": {
        "id": "AAHJCEHYOhrW"
      },
      "source": [
        "### 1.1. Parsing pdf file"
      ]
    },
    {
      "cell_type": "code",
      "metadata": {
        "id": "jjjcv1XjOVVr",
        "outputId": "4dabd01f-fcc8-447a-c0a6-7f64ad166190",
        "colab": {
          "base_uri": "https://localhost:8080/"
        }
      },
      "source": [
        "pip install tabula-py"
      ],
      "execution_count": 1,
      "outputs": [
        {
          "output_type": "stream",
          "text": [
            "Collecting tabula-py\n",
            "\u001b[?25l  Downloading https://files.pythonhosted.org/packages/cf/29/d6cb0d77ef46d84d35cffa09cf42c73b373aea664d28604eab6818f8a47c/tabula_py-2.2.0-py3-none-any.whl (11.7MB)\n",
            "\u001b[K     |████████████████████████████████| 11.7MB 313kB/s \n",
            "\u001b[?25hCollecting distro\n",
            "  Downloading https://files.pythonhosted.org/packages/25/b7/b3c4270a11414cb22c6352ebc7a83aaa3712043be29daa05018fd5a5c956/distro-1.5.0-py2.py3-none-any.whl\n",
            "Requirement already satisfied: pandas>=0.25.3 in /usr/local/lib/python3.6/dist-packages (from tabula-py) (1.1.4)\n",
            "Requirement already satisfied: numpy in /usr/local/lib/python3.6/dist-packages (from tabula-py) (1.18.5)\n",
            "Requirement already satisfied: pytz>=2017.2 in /usr/local/lib/python3.6/dist-packages (from pandas>=0.25.3->tabula-py) (2018.9)\n",
            "Requirement already satisfied: python-dateutil>=2.7.3 in /usr/local/lib/python3.6/dist-packages (from pandas>=0.25.3->tabula-py) (2.8.1)\n",
            "Requirement already satisfied: six>=1.5 in /usr/local/lib/python3.6/dist-packages (from python-dateutil>=2.7.3->pandas>=0.25.3->tabula-py) (1.15.0)\n",
            "Installing collected packages: distro, tabula-py\n",
            "Successfully installed distro-1.5.0 tabula-py-2.2.0\n"
          ],
          "name": "stdout"
        }
      ]
    },
    {
      "cell_type": "code",
      "metadata": {
        "id": "_GBEQaY-OkCZ"
      },
      "source": [
        "# import pdf file\n",
        "import tabula\n",
        "file = \"hospitals.pdf\"\n",
        "table = tabula.read_pdf(file,pages=1)\n",
        "hospitals = table[0]"
      ],
      "execution_count": 2,
      "outputs": []
    },
    {
      "cell_type": "code",
      "metadata": {
        "id": "lzNt5QgwOtOF"
      },
      "source": [
        "# drop unnamed column and na if any\n",
        "hospitals = hospitals.drop('Unnamed: 0',1)\n",
        "phospitalsdf = hospitals.dropna(0, how = 'all')\n",
        "hospitals = hospitals.dropna(1, how = 'all')"
      ],
      "execution_count": 3,
      "outputs": []
    },
    {
      "cell_type": "code",
      "metadata": {
        "id": "DDq7Jve_OyTc",
        "outputId": "476ab1bd-4024-48fc-c445-c4516b9918f1",
        "colab": {
          "base_uri": "https://localhost:8080/",
          "height": 142
        }
      },
      "source": [
        "# take a look at the imported data\n",
        "hospitals.head(3)"
      ],
      "execution_count": 9,
      "outputs": [
        {
          "output_type": "execute_result",
          "data": {
            "text/html": [
              "<div>\n",
              "<style scoped>\n",
              "    .dataframe tbody tr th:only-of-type {\n",
              "        vertical-align: middle;\n",
              "    }\n",
              "\n",
              "    .dataframe tbody tr th {\n",
              "        vertical-align: top;\n",
              "    }\n",
              "\n",
              "    .dataframe thead th {\n",
              "        text-align: right;\n",
              "    }\n",
              "</style>\n",
              "<table border=\"1\" class=\"dataframe\">\n",
              "  <thead>\n",
              "    <tr style=\"text-align: right;\">\n",
              "      <th></th>\n",
              "      <th>id</th>\n",
              "      <th>lat</th>\n",
              "      <th>lng</th>\n",
              "      <th>name</th>\n",
              "    </tr>\n",
              "  </thead>\n",
              "  <tbody>\n",
              "    <tr>\n",
              "      <th>0</th>\n",
              "      <td>hospital_001</td>\n",
              "      <td>-37.990622</td>\n",
              "      <td>145.072836</td>\n",
              "      <td>Como Private Hospital</td>\n",
              "    </tr>\n",
              "    <tr>\n",
              "      <th>1</th>\n",
              "      <td>hospital_002</td>\n",
              "      <td>-37.855469</td>\n",
              "      <td>145.268183</td>\n",
              "      <td>Mountain District Private Hospital</td>\n",
              "    </tr>\n",
              "    <tr>\n",
              "      <th>2</th>\n",
              "      <td>hospital_003</td>\n",
              "      <td>-37.792230</td>\n",
              "      <td>144.889128</td>\n",
              "      <td>Western Hospital</td>\n",
              "    </tr>\n",
              "  </tbody>\n",
              "</table>\n",
              "</div>"
            ],
            "text/plain": [
              "             id        lat         lng                                name\n",
              "0  hospital_001 -37.990622  145.072836               Como Private Hospital\n",
              "1  hospital_002 -37.855469  145.268183  Mountain District Private Hospital\n",
              "2  hospital_003 -37.792230  144.889128                    Western Hospital"
            ]
          },
          "metadata": {
            "tags": []
          },
          "execution_count": 9
        }
      ]
    },
    {
      "cell_type": "code",
      "metadata": {
        "id": "e8If5LsYOzrq",
        "outputId": "66ee91fe-d5d4-4067-83a5-7fde211db1a6",
        "colab": {
          "base_uri": "https://localhost:8080/",
          "height": 297
        }
      },
      "source": [
        "# check distribution of lat and lng\n",
        "hospitals.describe()"
      ],
      "execution_count": 7,
      "outputs": [
        {
          "output_type": "execute_result",
          "data": {
            "text/html": [
              "<div>\n",
              "<style scoped>\n",
              "    .dataframe tbody tr th:only-of-type {\n",
              "        vertical-align: middle;\n",
              "    }\n",
              "\n",
              "    .dataframe tbody tr th {\n",
              "        vertical-align: top;\n",
              "    }\n",
              "\n",
              "    .dataframe thead th {\n",
              "        text-align: right;\n",
              "    }\n",
              "</style>\n",
              "<table border=\"1\" class=\"dataframe\">\n",
              "  <thead>\n",
              "    <tr style=\"text-align: right;\">\n",
              "      <th></th>\n",
              "      <th>lat</th>\n",
              "      <th>lng</th>\n",
              "    </tr>\n",
              "  </thead>\n",
              "  <tbody>\n",
              "    <tr>\n",
              "      <th>count</th>\n",
              "      <td>49.000000</td>\n",
              "      <td>49.000000</td>\n",
              "    </tr>\n",
              "    <tr>\n",
              "      <th>mean</th>\n",
              "      <td>-37.504056</td>\n",
              "      <td>144.632720</td>\n",
              "    </tr>\n",
              "    <tr>\n",
              "      <th>std</th>\n",
              "      <td>0.664371</td>\n",
              "      <td>1.092551</td>\n",
              "    </tr>\n",
              "    <tr>\n",
              "      <th>min</th>\n",
              "      <td>-38.545479</td>\n",
              "      <td>141.237173</td>\n",
              "    </tr>\n",
              "    <tr>\n",
              "      <th>25%</th>\n",
              "      <td>-37.855469</td>\n",
              "      <td>144.815624</td>\n",
              "    </tr>\n",
              "    <tr>\n",
              "      <th>50%</th>\n",
              "      <td>-37.788107</td>\n",
              "      <td>145.015201</td>\n",
              "    </tr>\n",
              "    <tr>\n",
              "      <th>75%</th>\n",
              "      <td>-37.557401</td>\n",
              "      <td>145.165998</td>\n",
              "    </tr>\n",
              "    <tr>\n",
              "      <th>max</th>\n",
              "      <td>-35.799279</td>\n",
              "      <td>146.312423</td>\n",
              "    </tr>\n",
              "  </tbody>\n",
              "</table>\n",
              "</div>"
            ],
            "text/plain": [
              "             lat         lng\n",
              "count  49.000000   49.000000\n",
              "mean  -37.504056  144.632720\n",
              "std     0.664371    1.092551\n",
              "min   -38.545479  141.237173\n",
              "25%   -37.855469  144.815624\n",
              "50%   -37.788107  145.015201\n",
              "75%   -37.557401  145.165998\n",
              "max   -35.799279  146.312423"
            ]
          },
          "metadata": {
            "tags": []
          },
          "execution_count": 7
        }
      ]
    },
    {
      "cell_type": "code",
      "metadata": {
        "id": "Prn4CxgWO7gJ",
        "outputId": "767a5f2b-3965-4c05-ac6c-1307651c87c8",
        "colab": {
          "base_uri": "https://localhost:8080/"
        }
      },
      "source": [
        "# check missing values and data types\n",
        "hospitals.info()"
      ],
      "execution_count": 6,
      "outputs": [
        {
          "output_type": "stream",
          "text": [
            "<class 'pandas.core.frame.DataFrame'>\n",
            "RangeIndex: 49 entries, 0 to 48\n",
            "Data columns (total 4 columns):\n",
            " #   Column  Non-Null Count  Dtype  \n",
            "---  ------  --------------  -----  \n",
            " 0   id      49 non-null     object \n",
            " 1   lat     49 non-null     float64\n",
            " 2   lng     49 non-null     float64\n",
            " 3   name    49 non-null     object \n",
            "dtypes: float64(2), object(2)\n",
            "memory usage: 1.7+ KB\n"
          ],
          "name": "stdout"
        }
      ]
    },
    {
      "cell_type": "code",
      "metadata": {
        "id": "feoeRmtNPDo5",
        "outputId": "7058c823-5d83-4a39-a50f-8f452ef89874",
        "colab": {
          "base_uri": "https://localhost:8080/"
        }
      },
      "source": [
        "# check for unique hospital id\n",
        "len(hospitals['id'].unique())"
      ],
      "execution_count": 8,
      "outputs": [
        {
          "output_type": "execute_result",
          "data": {
            "text/plain": [
              "49"
            ]
          },
          "metadata": {
            "tags": []
          },
          "execution_count": 8
        }
      ]
    },
    {
      "cell_type": "markdown",
      "metadata": {
        "id": "TFAOMtUIPelz"
      },
      "source": [
        "### 1.2. Parsing excel file"
      ]
    },
    {
      "cell_type": "code",
      "metadata": {
        "id": "oADHpJzzPMjp"
      },
      "source": [
        "# import excel file\n",
        "import pandas as pd\n",
        "excel_data = pd.ExcelFile('supermarkets.xlsx')\n",
        "super_markets =  excel_data.parse('Sheet1')"
      ],
      "execution_count": 10,
      "outputs": []
    },
    {
      "cell_type": "code",
      "metadata": {
        "id": "TvaRT8OYPqPg"
      },
      "source": [
        "# drop unnamed column and na if any\n",
        "super_markets = super_markets.drop('Unnamed: 0', axis=1)\n",
        "super_markets = super_markets.dropna(0, how = 'all')\n",
        "super_markets = super_markets.dropna(1, how = 'all')"
      ],
      "execution_count": 12,
      "outputs": []
    },
    {
      "cell_type": "code",
      "metadata": {
        "id": "jfsJMvWyPlgA",
        "outputId": "df07cda6-4de4-40c2-ae14-0d4f47102a08",
        "colab": {
          "base_uri": "https://localhost:8080/",
          "height": 142
        }
      },
      "source": [
        "# take a look at the dataset\n",
        "super_markets.head(3)"
      ],
      "execution_count": 13,
      "outputs": [
        {
          "output_type": "execute_result",
          "data": {
            "text/html": [
              "<div>\n",
              "<style scoped>\n",
              "    .dataframe tbody tr th:only-of-type {\n",
              "        vertical-align: middle;\n",
              "    }\n",
              "\n",
              "    .dataframe tbody tr th {\n",
              "        vertical-align: top;\n",
              "    }\n",
              "\n",
              "    .dataframe thead th {\n",
              "        text-align: right;\n",
              "    }\n",
              "</style>\n",
              "<table border=\"1\" class=\"dataframe\">\n",
              "  <thead>\n",
              "    <tr style=\"text-align: right;\">\n",
              "      <th></th>\n",
              "      <th>id</th>\n",
              "      <th>lat</th>\n",
              "      <th>lng</th>\n",
              "      <th>type</th>\n",
              "    </tr>\n",
              "  </thead>\n",
              "  <tbody>\n",
              "    <tr>\n",
              "      <th>0</th>\n",
              "      <td>S_001</td>\n",
              "      <td>-37.883978</td>\n",
              "      <td>144.735287</td>\n",
              "      <td>Woolworths</td>\n",
              "    </tr>\n",
              "    <tr>\n",
              "      <th>1</th>\n",
              "      <td>S_002</td>\n",
              "      <td>-41.161591</td>\n",
              "      <td>147.514797</td>\n",
              "      <td>Woolworths</td>\n",
              "    </tr>\n",
              "    <tr>\n",
              "      <th>2</th>\n",
              "      <td>S_003</td>\n",
              "      <td>-37.984078</td>\n",
              "      <td>145.077167</td>\n",
              "      <td>Woolworths</td>\n",
              "    </tr>\n",
              "  </tbody>\n",
              "</table>\n",
              "</div>"
            ],
            "text/plain": [
              "      id        lat         lng        type\n",
              "0  S_001 -37.883978  144.735287  Woolworths\n",
              "1  S_002 -41.161591  147.514797  Woolworths\n",
              "2  S_003 -37.984078  145.077167  Woolworths"
            ]
          },
          "metadata": {
            "tags": []
          },
          "execution_count": 13
        }
      ]
    },
    {
      "cell_type": "code",
      "metadata": {
        "id": "9aStJ-4lPxkA",
        "outputId": "4573bce7-8139-439a-a74c-5e197de73b73",
        "colab": {
          "base_uri": "https://localhost:8080/",
          "height": 297
        }
      },
      "source": [
        "# check distribution of lat and lng\n",
        "super_markets.describe()"
      ],
      "execution_count": 14,
      "outputs": [
        {
          "output_type": "execute_result",
          "data": {
            "text/html": [
              "<div>\n",
              "<style scoped>\n",
              "    .dataframe tbody tr th:only-of-type {\n",
              "        vertical-align: middle;\n",
              "    }\n",
              "\n",
              "    .dataframe tbody tr th {\n",
              "        vertical-align: top;\n",
              "    }\n",
              "\n",
              "    .dataframe thead th {\n",
              "        text-align: right;\n",
              "    }\n",
              "</style>\n",
              "<table border=\"1\" class=\"dataframe\">\n",
              "  <thead>\n",
              "    <tr style=\"text-align: right;\">\n",
              "      <th></th>\n",
              "      <th>lat</th>\n",
              "      <th>lng</th>\n",
              "    </tr>\n",
              "  </thead>\n",
              "  <tbody>\n",
              "    <tr>\n",
              "      <th>count</th>\n",
              "      <td>239.000000</td>\n",
              "      <td>239.000000</td>\n",
              "    </tr>\n",
              "    <tr>\n",
              "      <th>mean</th>\n",
              "      <td>-37.553054</td>\n",
              "      <td>144.990823</td>\n",
              "    </tr>\n",
              "    <tr>\n",
              "      <th>std</th>\n",
              "      <td>1.515833</td>\n",
              "      <td>2.347418</td>\n",
              "    </tr>\n",
              "    <tr>\n",
              "      <th>min</th>\n",
              "      <td>-41.161591</td>\n",
              "      <td>115.898108</td>\n",
              "    </tr>\n",
              "    <tr>\n",
              "      <th>25%</th>\n",
              "      <td>-37.985597</td>\n",
              "      <td>144.840538</td>\n",
              "    </tr>\n",
              "    <tr>\n",
              "      <th>50%</th>\n",
              "      <td>-37.823910</td>\n",
              "      <td>145.041720</td>\n",
              "    </tr>\n",
              "    <tr>\n",
              "      <th>75%</th>\n",
              "      <td>-37.719955</td>\n",
              "      <td>145.238921</td>\n",
              "    </tr>\n",
              "    <tr>\n",
              "      <th>max</th>\n",
              "      <td>-21.142496</td>\n",
              "      <td>153.273270</td>\n",
              "    </tr>\n",
              "  </tbody>\n",
              "</table>\n",
              "</div>"
            ],
            "text/plain": [
              "              lat         lng\n",
              "count  239.000000  239.000000\n",
              "mean   -37.553054  144.990823\n",
              "std      1.515833    2.347418\n",
              "min    -41.161591  115.898108\n",
              "25%    -37.985597  144.840538\n",
              "50%    -37.823910  145.041720\n",
              "75%    -37.719955  145.238921\n",
              "max    -21.142496  153.273270"
            ]
          },
          "metadata": {
            "tags": []
          },
          "execution_count": 14
        }
      ]
    },
    {
      "cell_type": "code",
      "metadata": {
        "id": "VtN4E7fqP7CZ",
        "outputId": "5092825a-ea6a-4c08-eea8-a2f0c2cda2f3",
        "colab": {
          "base_uri": "https://localhost:8080/"
        }
      },
      "source": [
        "# check missing values and data types\n",
        "super_markets.info()"
      ],
      "execution_count": 15,
      "outputs": [
        {
          "output_type": "stream",
          "text": [
            "<class 'pandas.core.frame.DataFrame'>\n",
            "Int64Index: 239 entries, 0 to 238\n",
            "Data columns (total 4 columns):\n",
            " #   Column  Non-Null Count  Dtype  \n",
            "---  ------  --------------  -----  \n",
            " 0   id      239 non-null    object \n",
            " 1   lat     239 non-null    float64\n",
            " 2   lng     239 non-null    float64\n",
            " 3   type    239 non-null    object \n",
            "dtypes: float64(2), object(2)\n",
            "memory usage: 9.3+ KB\n"
          ],
          "name": "stdout"
        }
      ]
    },
    {
      "cell_type": "code",
      "metadata": {
        "id": "xIBNPKMUQDV6",
        "outputId": "9836f4ff-a300-4158-f249-470700f5b97e",
        "colab": {
          "base_uri": "https://localhost:8080/"
        }
      },
      "source": [
        "# check for unique hospital id\n",
        "len(super_markets['id'].unique())"
      ],
      "execution_count": 16,
      "outputs": [
        {
          "output_type": "execute_result",
          "data": {
            "text/plain": [
              "239"
            ]
          },
          "metadata": {
            "tags": []
          },
          "execution_count": 16
        }
      ]
    },
    {
      "cell_type": "markdown",
      "metadata": {
        "id": "XtqLj0omQLq3"
      },
      "source": [
        "### 1.3. Parsing html file"
      ]
    },
    {
      "cell_type": "code",
      "metadata": {
        "id": "QQFirmQlQI63"
      },
      "source": [
        "# import html file with Beautiful Soup\n",
        "from bs4 import BeautifulSoup\n",
        "f = open(\"/content/shopingcenters.html\", encoding=\"utf8\")     \n",
        "soup = BeautifulSoup(f)\n",
        "f.close()\n",
        "\n",
        "# get table from html\n",
        "tables = soup.find_all(\"table\")\n",
        "table = tables[0]\n",
        "\n",
        "# get data from table and turn into pandas dataframe\n",
        "table_data = [[cell.text for cell in row.find_all([\"th\",\"td\"])] for row in table.find_all(\"tr\")]\n",
        "shopping_centers = pd.DataFrame(table_data)"
      ],
      "execution_count": 17,
      "outputs": []
    },
    {
      "cell_type": "code",
      "metadata": {
        "id": "U2pKmGjXQX1q"
      },
      "source": [
        "# remove abudant column, correct column name\n",
        "shopping_centers = shopping_centers.drop(0,axis=1)\n",
        "shopping_centers.columns = shopping_centers.iloc[0,:]\n",
        "shopping_centers.drop(index=0,inplace=True)\n",
        "shopping_centers = shopping_centers.reset_index(drop=True)"
      ],
      "execution_count": 18,
      "outputs": []
    },
    {
      "cell_type": "code",
      "metadata": {
        "id": "RCjRSP0fQal6",
        "outputId": "146d741d-abb6-4d34-887c-c003a68a9818",
        "colab": {
          "base_uri": "https://localhost:8080/",
          "height": 142
        }
      },
      "source": [
        "# take a look at the dataset\n",
        "shopping_centers.head(3)"
      ],
      "execution_count": 19,
      "outputs": [
        {
          "output_type": "execute_result",
          "data": {
            "text/html": [
              "<div>\n",
              "<style scoped>\n",
              "    .dataframe tbody tr th:only-of-type {\n",
              "        vertical-align: middle;\n",
              "    }\n",
              "\n",
              "    .dataframe tbody tr th {\n",
              "        vertical-align: top;\n",
              "    }\n",
              "\n",
              "    .dataframe thead th {\n",
              "        text-align: right;\n",
              "    }\n",
              "</style>\n",
              "<table border=\"1\" class=\"dataframe\">\n",
              "  <thead>\n",
              "    <tr style=\"text-align: right;\">\n",
              "      <th></th>\n",
              "      <th>sc_id</th>\n",
              "      <th>lat</th>\n",
              "      <th>lng</th>\n",
              "    </tr>\n",
              "  </thead>\n",
              "  <tbody>\n",
              "    <tr>\n",
              "      <th>0</th>\n",
              "      <td>SC_001</td>\n",
              "      <td>-37.767915</td>\n",
              "      <td>145.041790</td>\n",
              "    </tr>\n",
              "    <tr>\n",
              "      <th>1</th>\n",
              "      <td>SC_002</td>\n",
              "      <td>-37.819375</td>\n",
              "      <td>145.171472</td>\n",
              "    </tr>\n",
              "    <tr>\n",
              "      <th>2</th>\n",
              "      <td>SC_003</td>\n",
              "      <td>-37.971131</td>\n",
              "      <td>145.089065</td>\n",
              "    </tr>\n",
              "  </tbody>\n",
              "</table>\n",
              "</div>"
            ],
            "text/plain": [
              "0   sc_id         lat         lng\n",
              "0  SC_001  -37.767915  145.041790\n",
              "1  SC_002  -37.819375  145.171472\n",
              "2  SC_003  -37.971131  145.089065"
            ]
          },
          "metadata": {
            "tags": []
          },
          "execution_count": 19
        }
      ]
    },
    {
      "cell_type": "code",
      "metadata": {
        "id": "JZL29xf1QoeX",
        "outputId": "f71be9de-0ee7-41fa-866b-d7051362a97e",
        "colab": {
          "base_uri": "https://localhost:8080/"
        }
      },
      "source": [
        "# check missing values and data types\n",
        "shopping_centers.info()"
      ],
      "execution_count": 22,
      "outputs": [
        {
          "output_type": "stream",
          "text": [
            "<class 'pandas.core.frame.DataFrame'>\n",
            "RangeIndex: 119 entries, 0 to 118\n",
            "Data columns (total 3 columns):\n",
            " #   Column  Non-Null Count  Dtype \n",
            "---  ------  --------------  ----- \n",
            " 0   sc_id   119 non-null    object\n",
            " 1   lat     119 non-null    object\n",
            " 2   lng     119 non-null    object\n",
            "dtypes: object(3)\n",
            "memory usage: 2.9+ KB\n"
          ],
          "name": "stdout"
        }
      ]
    },
    {
      "cell_type": "code",
      "metadata": {
        "id": "fWGVouWVQrpU"
      },
      "source": [
        "shopping_centers =shopping_centers.astype({'lat':'float64','lng':'float64'})"
      ],
      "execution_count": 23,
      "outputs": []
    },
    {
      "cell_type": "code",
      "metadata": {
        "id": "_u32kr0TQdMf",
        "outputId": "acc24daf-1919-4fa0-e067-4188c98c7580",
        "colab": {
          "base_uri": "https://localhost:8080/",
          "height": 297
        }
      },
      "source": [
        "# check distribution of lat and lng\n",
        "shopping_centers.describe()"
      ],
      "execution_count": 24,
      "outputs": [
        {
          "output_type": "execute_result",
          "data": {
            "text/html": [
              "<div>\n",
              "<style scoped>\n",
              "    .dataframe tbody tr th:only-of-type {\n",
              "        vertical-align: middle;\n",
              "    }\n",
              "\n",
              "    .dataframe tbody tr th {\n",
              "        vertical-align: top;\n",
              "    }\n",
              "\n",
              "    .dataframe thead th {\n",
              "        text-align: right;\n",
              "    }\n",
              "</style>\n",
              "<table border=\"1\" class=\"dataframe\">\n",
              "  <thead>\n",
              "    <tr style=\"text-align: right;\">\n",
              "      <th></th>\n",
              "      <th>lat</th>\n",
              "      <th>lng</th>\n",
              "    </tr>\n",
              "  </thead>\n",
              "  <tbody>\n",
              "    <tr>\n",
              "      <th>count</th>\n",
              "      <td>119.000000</td>\n",
              "      <td>119.000000</td>\n",
              "    </tr>\n",
              "    <tr>\n",
              "      <th>mean</th>\n",
              "      <td>-27.760466</td>\n",
              "      <td>113.923414</td>\n",
              "    </tr>\n",
              "    <tr>\n",
              "      <th>std</th>\n",
              "      <td>25.383978</td>\n",
              "      <td>79.472027</td>\n",
              "    </tr>\n",
              "    <tr>\n",
              "      <th>min</th>\n",
              "      <td>-38.383368</td>\n",
              "      <td>-103.846811</td>\n",
              "    </tr>\n",
              "    <tr>\n",
              "      <th>25%</th>\n",
              "      <td>-37.890654</td>\n",
              "      <td>144.608029</td>\n",
              "    </tr>\n",
              "    <tr>\n",
              "      <th>50%</th>\n",
              "      <td>-37.812753</td>\n",
              "      <td>144.964064</td>\n",
              "    </tr>\n",
              "    <tr>\n",
              "      <th>75%</th>\n",
              "      <td>-37.618487</td>\n",
              "      <td>145.142859</td>\n",
              "    </tr>\n",
              "    <tr>\n",
              "      <th>max</th>\n",
              "      <td>45.499327</td>\n",
              "      <td>151.237777</td>\n",
              "    </tr>\n",
              "  </tbody>\n",
              "</table>\n",
              "</div>"
            ],
            "text/plain": [
              "0             lat         lng\n",
              "count  119.000000  119.000000\n",
              "mean   -27.760466  113.923414\n",
              "std     25.383978   79.472027\n",
              "min    -38.383368 -103.846811\n",
              "25%    -37.890654  144.608029\n",
              "50%    -37.812753  144.964064\n",
              "75%    -37.618487  145.142859\n",
              "max     45.499327  151.237777"
            ]
          },
          "metadata": {
            "tags": []
          },
          "execution_count": 24
        }
      ]
    },
    {
      "cell_type": "markdown",
      "metadata": {
        "id": "eUsxEnQhRLDa"
      },
      "source": [
        "There are some shopping centers with odd latitude and longitude, I check in the google map and they are some where far away in the Europe or maybe in the middle of the ocean. I have no way to fix these so I just remove every out of bound shopping centers."
      ]
    },
    {
      "cell_type": "code",
      "metadata": {
        "id": "JT3aKmzVQgp3"
      },
      "source": [
        "shopping_centers = shopping_centers[(shopping_centers['lat'] < 0) & (shopping_centers['lng'] > 0)]\n",
        "shopping_centers = shopping_centers.reset_index(drop=True)"
      ],
      "execution_count": 27,
      "outputs": []
    },
    {
      "cell_type": "code",
      "metadata": {
        "id": "67iJ6B-AQ_m1",
        "outputId": "1008a5b9-54f4-4350-8e6f-663c3475f66b",
        "colab": {
          "base_uri": "https://localhost:8080/",
          "height": 297
        }
      },
      "source": [
        "# check distribution of lat and lng\n",
        "shopping_centers.describe()"
      ],
      "execution_count": 28,
      "outputs": [
        {
          "output_type": "execute_result",
          "data": {
            "text/html": [
              "<div>\n",
              "<style scoped>\n",
              "    .dataframe tbody tr th:only-of-type {\n",
              "        vertical-align: middle;\n",
              "    }\n",
              "\n",
              "    .dataframe tbody tr th {\n",
              "        vertical-align: top;\n",
              "    }\n",
              "\n",
              "    .dataframe thead th {\n",
              "        text-align: right;\n",
              "    }\n",
              "</style>\n",
              "<table border=\"1\" class=\"dataframe\">\n",
              "  <thead>\n",
              "    <tr style=\"text-align: right;\">\n",
              "      <th></th>\n",
              "      <th>lat</th>\n",
              "      <th>lng</th>\n",
              "    </tr>\n",
              "  </thead>\n",
              "  <tbody>\n",
              "    <tr>\n",
              "      <th>count</th>\n",
              "      <td>103.000000</td>\n",
              "      <td>103.000000</td>\n",
              "    </tr>\n",
              "    <tr>\n",
              "      <th>mean</th>\n",
              "      <td>-37.686080</td>\n",
              "      <td>145.080721</td>\n",
              "    </tr>\n",
              "    <tr>\n",
              "      <th>std</th>\n",
              "      <td>0.804829</td>\n",
              "      <td>1.344130</td>\n",
              "    </tr>\n",
              "    <tr>\n",
              "      <th>min</th>\n",
              "      <td>-38.383368</td>\n",
              "      <td>137.520319</td>\n",
              "    </tr>\n",
              "    <tr>\n",
              "      <th>25%</th>\n",
              "      <td>-37.944316</td>\n",
              "      <td>144.885377</td>\n",
              "    </tr>\n",
              "    <tr>\n",
              "      <th>50%</th>\n",
              "      <td>-37.819325</td>\n",
              "      <td>144.994680</td>\n",
              "    </tr>\n",
              "    <tr>\n",
              "      <th>75%</th>\n",
              "      <td>-37.736267</td>\n",
              "      <td>145.172402</td>\n",
              "    </tr>\n",
              "    <tr>\n",
              "      <th>max</th>\n",
              "      <td>-33.027816</td>\n",
              "      <td>151.237777</td>\n",
              "    </tr>\n",
              "  </tbody>\n",
              "</table>\n",
              "</div>"
            ],
            "text/plain": [
              "0             lat         lng\n",
              "count  103.000000  103.000000\n",
              "mean   -37.686080  145.080721\n",
              "std      0.804829    1.344130\n",
              "min    -38.383368  137.520319\n",
              "25%    -37.944316  144.885377\n",
              "50%    -37.819325  144.994680\n",
              "75%    -37.736267  145.172402\n",
              "max    -33.027816  151.237777"
            ]
          },
          "metadata": {
            "tags": []
          },
          "execution_count": 28
        }
      ]
    },
    {
      "cell_type": "markdown",
      "metadata": {
        "id": "fXgFwXRNRfqu"
      },
      "source": [
        "After remove strange samples, the data look normal again, similar to other dataset with mean lat around -35 ~ 37 and mean long around 144 ~ 145."
      ]
    },
    {
      "cell_type": "markdown",
      "metadata": {
        "id": "-MX1jN1tRyCQ"
      },
      "source": [
        "### 1.4. Parsing json file"
      ]
    },
    {
      "cell_type": "code",
      "metadata": {
        "id": "gwdJSiWfRBXq"
      },
      "source": [
        "# import json data file\n",
        "import json\n",
        "\n",
        "with open('./real_state.json') as f:\n",
        "  data = json.load(f)\n",
        "\n",
        "json = pd.DataFrame(data)\n"
      ],
      "execution_count": 29,
      "outputs": []
    },
    {
      "cell_type": "code",
      "metadata": {
        "id": "I1Fom3nNR2s8",
        "outputId": "766043c3-350f-4a3d-9fc5-752566229907",
        "colab": {
          "base_uri": "https://localhost:8080/",
          "height": 142
        }
      },
      "source": [
        "# take a look at the data\n",
        "json.head(3)"
      ],
      "execution_count": 30,
      "outputs": [
        {
          "output_type": "execute_result",
          "data": {
            "text/html": [
              "<div>\n",
              "<style scoped>\n",
              "    .dataframe tbody tr th:only-of-type {\n",
              "        vertical-align: middle;\n",
              "    }\n",
              "\n",
              "    .dataframe tbody tr th {\n",
              "        vertical-align: top;\n",
              "    }\n",
              "\n",
              "    .dataframe thead th {\n",
              "        text-align: right;\n",
              "    }\n",
              "</style>\n",
              "<table border=\"1\" class=\"dataframe\">\n",
              "  <thead>\n",
              "    <tr style=\"text-align: right;\">\n",
              "      <th></th>\n",
              "      <th>property_id</th>\n",
              "      <th>lat</th>\n",
              "      <th>lng</th>\n",
              "      <th>addr_street</th>\n",
              "      <th>price</th>\n",
              "      <th>property_type</th>\n",
              "      <th>year</th>\n",
              "      <th>bedrooms</th>\n",
              "      <th>bathrooms</th>\n",
              "      <th>parking_space</th>\n",
              "    </tr>\n",
              "  </thead>\n",
              "  <tbody>\n",
              "    <tr>\n",
              "      <th>0</th>\n",
              "      <td>87107</td>\n",
              "      <td>-37.907873</td>\n",
              "      <td>144.991190</td>\n",
              "      <td>8 Cadby Street</td>\n",
              "      <td>33600000</td>\n",
              "      <td>house</td>\n",
              "      <td>2016</td>\n",
              "      <td>4</td>\n",
              "      <td>3</td>\n",
              "      <td>2</td>\n",
              "    </tr>\n",
              "    <tr>\n",
              "      <th>1</th>\n",
              "      <td>65099</td>\n",
              "      <td>-37.813056</td>\n",
              "      <td>145.315607</td>\n",
              "      <td>118 Liverpool Road</td>\n",
              "      <td>4303000</td>\n",
              "      <td>house</td>\n",
              "      <td>2013</td>\n",
              "      <td>4</td>\n",
              "      <td>2</td>\n",
              "      <td>0</td>\n",
              "    </tr>\n",
              "    <tr>\n",
              "      <th>2</th>\n",
              "      <td>68670</td>\n",
              "      <td>-37.855055</td>\n",
              "      <td>145.022366</td>\n",
              "      <td>8 Moorhouse Street</td>\n",
              "      <td>23140000</td>\n",
              "      <td>house</td>\n",
              "      <td>2011</td>\n",
              "      <td>3</td>\n",
              "      <td>2</td>\n",
              "      <td>1</td>\n",
              "    </tr>\n",
              "  </tbody>\n",
              "</table>\n",
              "</div>"
            ],
            "text/plain": [
              "   property_id        lat         lng  ... bedrooms  bathrooms parking_space\n",
              "0        87107 -37.907873  144.991190  ...        4          3             2\n",
              "1        65099 -37.813056  145.315607  ...        4          2             0\n",
              "2        68670 -37.855055  145.022366  ...        3          2             1\n",
              "\n",
              "[3 rows x 10 columns]"
            ]
          },
          "metadata": {
            "tags": []
          },
          "execution_count": 30
        }
      ]
    },
    {
      "cell_type": "markdown",
      "metadata": {
        "id": "EhLAP0hGSB6f"
      },
      "source": [
        "### 1.5. Parsing xml file"
      ]
    },
    {
      "cell_type": "code",
      "metadata": {
        "id": "X2jLUjBfR7Id"
      },
      "source": [
        "# import xml file\n",
        "import xml.etree.ElementTree as etree    \n",
        "from lxml import objectify\n",
        "\n",
        "xml = objectify.parse(\"real_state.xml\")\n",
        "root = xml.getroot()\n",
        "\n",
        "data = []\n",
        "for i in range(len(root.getchildren())):\n",
        "  data.append([child.text for child in root.getchildren()[i].getchildren()])\n",
        "\n",
        "df = pd.DataFrame(data).T\n",
        "df.columns = ['property_id', 'lat', 'lng', 'addr_street', 'price', 'property_type', 'year', 'bedrooms', 'bathrooms', 'parking_space']"
      ],
      "execution_count": 31,
      "outputs": []
    },
    {
      "cell_type": "code",
      "metadata": {
        "id": "o3luBoQ6SKN_",
        "outputId": "24c072fb-a502-4b76-b974-ac55566de151",
        "colab": {
          "base_uri": "https://localhost:8080/",
          "height": 142
        }
      },
      "source": [
        "# take a look at the data\n",
        "df.tail(3)"
      ],
      "execution_count": 32,
      "outputs": [
        {
          "output_type": "execute_result",
          "data": {
            "text/html": [
              "<div>\n",
              "<style scoped>\n",
              "    .dataframe tbody tr th:only-of-type {\n",
              "        vertical-align: middle;\n",
              "    }\n",
              "\n",
              "    .dataframe tbody tr th {\n",
              "        vertical-align: top;\n",
              "    }\n",
              "\n",
              "    .dataframe thead th {\n",
              "        text-align: right;\n",
              "    }\n",
              "</style>\n",
              "<table border=\"1\" class=\"dataframe\">\n",
              "  <thead>\n",
              "    <tr style=\"text-align: right;\">\n",
              "      <th></th>\n",
              "      <th>property_id</th>\n",
              "      <th>lat</th>\n",
              "      <th>lng</th>\n",
              "      <th>addr_street</th>\n",
              "      <th>price</th>\n",
              "      <th>property_type</th>\n",
              "      <th>year</th>\n",
              "      <th>bedrooms</th>\n",
              "      <th>bathrooms</th>\n",
              "      <th>parking_space</th>\n",
              "    </tr>\n",
              "  </thead>\n",
              "  <tbody>\n",
              "    <tr>\n",
              "      <th>1004</th>\n",
              "      <td>47989</td>\n",
              "      <td>-37.801228</td>\n",
              "      <td>145.02619099999998</td>\n",
              "      <td>17 Molesworth Street</td>\n",
              "      <td>4740000</td>\n",
              "      <td>house</td>\n",
              "      <td>2016</td>\n",
              "      <td>4</td>\n",
              "      <td>2</td>\n",
              "      <td>2</td>\n",
              "    </tr>\n",
              "    <tr>\n",
              "      <th>1005</th>\n",
              "      <td>40372</td>\n",
              "      <td>-37.71441</td>\n",
              "      <td>145.040399</td>\n",
              "      <td>31 Cash Street</td>\n",
              "      <td>8470000</td>\n",
              "      <td>house</td>\n",
              "      <td>2016</td>\n",
              "      <td>3</td>\n",
              "      <td>2</td>\n",
              "      <td>3</td>\n",
              "    </tr>\n",
              "    <tr>\n",
              "      <th>1006</th>\n",
              "      <td>24923</td>\n",
              "      <td>-37.581520000000005</td>\n",
              "      <td>144.90794</td>\n",
              "      <td>1 Wattletree Street</td>\n",
              "      <td>5060000</td>\n",
              "      <td>house</td>\n",
              "      <td>2014</td>\n",
              "      <td>4</td>\n",
              "      <td>2</td>\n",
              "      <td>2</td>\n",
              "    </tr>\n",
              "  </tbody>\n",
              "</table>\n",
              "</div>"
            ],
            "text/plain": [
              "     property_id                  lat  ... bathrooms parking_space\n",
              "1004       47989           -37.801228  ...         2             2\n",
              "1005       40372            -37.71441  ...         2             3\n",
              "1006       24923  -37.581520000000005  ...         2             2\n",
              "\n",
              "[3 rows x 10 columns]"
            ]
          },
          "metadata": {
            "tags": []
          },
          "execution_count": 32
        }
      ]
    },
    {
      "cell_type": "markdown",
      "metadata": {
        "id": "lhUnQxJ1SRSy"
      },
      "source": [
        "### 1.6. Joining json and xml dataset"
      ]
    },
    {
      "cell_type": "code",
      "metadata": {
        "id": "A9he41z6SNUQ"
      },
      "source": [
        "# concatenate 2 real estate dataset along rows\n",
        "real_estate = pd.concat([json, df], axis=0)\n",
        "real_estate = real_estate.reset_index(drop=True)"
      ],
      "execution_count": 38,
      "outputs": []
    },
    {
      "cell_type": "code",
      "metadata": {
        "id": "fcQz6xbTSYeh",
        "outputId": "23769a20-b92f-4ad2-8d61-b04c05d26bb7",
        "colab": {
          "base_uri": "https://localhost:8080/",
          "height": 419
        }
      },
      "source": [
        "# take a look at the data\n",
        "real_estate"
      ],
      "execution_count": 36,
      "outputs": [
        {
          "output_type": "execute_result",
          "data": {
            "text/html": [
              "<div>\n",
              "<style scoped>\n",
              "    .dataframe tbody tr th:only-of-type {\n",
              "        vertical-align: middle;\n",
              "    }\n",
              "\n",
              "    .dataframe tbody tr th {\n",
              "        vertical-align: top;\n",
              "    }\n",
              "\n",
              "    .dataframe thead th {\n",
              "        text-align: right;\n",
              "    }\n",
              "</style>\n",
              "<table border=\"1\" class=\"dataframe\">\n",
              "  <thead>\n",
              "    <tr style=\"text-align: right;\">\n",
              "      <th></th>\n",
              "      <th>property_id</th>\n",
              "      <th>lat</th>\n",
              "      <th>lng</th>\n",
              "      <th>addr_street</th>\n",
              "      <th>price</th>\n",
              "      <th>property_type</th>\n",
              "      <th>year</th>\n",
              "      <th>bedrooms</th>\n",
              "      <th>bathrooms</th>\n",
              "      <th>parking_space</th>\n",
              "    </tr>\n",
              "  </thead>\n",
              "  <tbody>\n",
              "    <tr>\n",
              "      <th>0</th>\n",
              "      <td>87107</td>\n",
              "      <td>-37.907873</td>\n",
              "      <td>144.991190</td>\n",
              "      <td>8 Cadby Street</td>\n",
              "      <td>33600000</td>\n",
              "      <td>house</td>\n",
              "      <td>2016</td>\n",
              "      <td>4</td>\n",
              "      <td>3</td>\n",
              "      <td>2</td>\n",
              "    </tr>\n",
              "    <tr>\n",
              "      <th>1</th>\n",
              "      <td>65099</td>\n",
              "      <td>-37.813056</td>\n",
              "      <td>145.315607</td>\n",
              "      <td>118 Liverpool Road</td>\n",
              "      <td>4303000</td>\n",
              "      <td>house</td>\n",
              "      <td>2013</td>\n",
              "      <td>4</td>\n",
              "      <td>2</td>\n",
              "      <td>0</td>\n",
              "    </tr>\n",
              "    <tr>\n",
              "      <th>2</th>\n",
              "      <td>68670</td>\n",
              "      <td>-37.855055</td>\n",
              "      <td>145.022366</td>\n",
              "      <td>8 Moorhouse Street</td>\n",
              "      <td>23140000</td>\n",
              "      <td>house</td>\n",
              "      <td>2011</td>\n",
              "      <td>3</td>\n",
              "      <td>2</td>\n",
              "      <td>1</td>\n",
              "    </tr>\n",
              "    <tr>\n",
              "      <th>3</th>\n",
              "      <td>37971</td>\n",
              "      <td>-37.772679</td>\n",
              "      <td>145.025928</td>\n",
              "      <td>127 Grange Road</td>\n",
              "      <td>9814000</td>\n",
              "      <td>house</td>\n",
              "      <td>2011</td>\n",
              "      <td>3</td>\n",
              "      <td>2</td>\n",
              "      <td>2</td>\n",
              "    </tr>\n",
              "    <tr>\n",
              "      <th>4</th>\n",
              "      <td>52209</td>\n",
              "      <td>-37.825393</td>\n",
              "      <td>145.011156</td>\n",
              "      <td>12 Khartoum Street</td>\n",
              "      <td>4807000</td>\n",
              "      <td>house</td>\n",
              "      <td>2016</td>\n",
              "      <td>4</td>\n",
              "      <td>3</td>\n",
              "      <td>1</td>\n",
              "    </tr>\n",
              "    <tr>\n",
              "      <th>...</th>\n",
              "      <td>...</td>\n",
              "      <td>...</td>\n",
              "      <td>...</td>\n",
              "      <td>...</td>\n",
              "      <td>...</td>\n",
              "      <td>...</td>\n",
              "      <td>...</td>\n",
              "      <td>...</td>\n",
              "      <td>...</td>\n",
              "      <td>...</td>\n",
              "    </tr>\n",
              "    <tr>\n",
              "      <th>2012</th>\n",
              "      <td>84395</td>\n",
              "      <td>-37.855423</td>\n",
              "      <td>144.987396</td>\n",
              "      <td>80 Peel Street</td>\n",
              "      <td>10850000</td>\n",
              "      <td>house</td>\n",
              "      <td>2009</td>\n",
              "      <td>2</td>\n",
              "      <td>1</td>\n",
              "      <td>0</td>\n",
              "    </tr>\n",
              "    <tr>\n",
              "      <th>2013</th>\n",
              "      <td>18114</td>\n",
              "      <td>-37.671000</td>\n",
              "      <td>144.923125</td>\n",
              "      <td>1253 Pascoe Vale Road</td>\n",
              "      <td>6288000</td>\n",
              "      <td>house</td>\n",
              "      <td>2016</td>\n",
              "      <td>3</td>\n",
              "      <td>1</td>\n",
              "      <td>1</td>\n",
              "    </tr>\n",
              "    <tr>\n",
              "      <th>2014</th>\n",
              "      <td>47989</td>\n",
              "      <td>-37.801228</td>\n",
              "      <td>145.026191</td>\n",
              "      <td>17 Molesworth Street</td>\n",
              "      <td>4740000</td>\n",
              "      <td>house</td>\n",
              "      <td>2016</td>\n",
              "      <td>4</td>\n",
              "      <td>2</td>\n",
              "      <td>2</td>\n",
              "    </tr>\n",
              "    <tr>\n",
              "      <th>2015</th>\n",
              "      <td>40372</td>\n",
              "      <td>-37.714410</td>\n",
              "      <td>145.040399</td>\n",
              "      <td>31 Cash Street</td>\n",
              "      <td>8470000</td>\n",
              "      <td>house</td>\n",
              "      <td>2016</td>\n",
              "      <td>3</td>\n",
              "      <td>2</td>\n",
              "      <td>3</td>\n",
              "    </tr>\n",
              "    <tr>\n",
              "      <th>2016</th>\n",
              "      <td>24923</td>\n",
              "      <td>-37.581520</td>\n",
              "      <td>144.907940</td>\n",
              "      <td>1 Wattletree Street</td>\n",
              "      <td>5060000</td>\n",
              "      <td>house</td>\n",
              "      <td>2014</td>\n",
              "      <td>4</td>\n",
              "      <td>2</td>\n",
              "      <td>2</td>\n",
              "    </tr>\n",
              "  </tbody>\n",
              "</table>\n",
              "<p>2017 rows × 10 columns</p>\n",
              "</div>"
            ],
            "text/plain": [
              "     property_id        lat         lng  ... bedrooms  bathrooms parking_space\n",
              "0          87107 -37.907873  144.991190  ...        4          3             2\n",
              "1          65099 -37.813056  145.315607  ...        4          2             0\n",
              "2          68670 -37.855055  145.022366  ...        3          2             1\n",
              "3          37971 -37.772679  145.025928  ...        3          2             2\n",
              "4          52209 -37.825393  145.011156  ...        4          3             1\n",
              "...          ...        ...         ...  ...      ...        ...           ...\n",
              "2012       84395 -37.855423  144.987396  ...        2          1             0\n",
              "2013       18114 -37.671000  144.923125  ...        3          1             1\n",
              "2014       47989 -37.801228  145.026191  ...        4          2             2\n",
              "2015       40372 -37.714410  145.040399  ...        3          2             3\n",
              "2016       24923 -37.581520  144.907940  ...        4          2             2\n",
              "\n",
              "[2017 rows x 10 columns]"
            ]
          },
          "metadata": {
            "tags": []
          },
          "execution_count": 36
        }
      ]
    },
    {
      "cell_type": "code",
      "metadata": {
        "id": "Qz4nQN3YSaep",
        "outputId": "aa07c23b-caaf-4428-83b8-adef5771da34",
        "colab": {
          "base_uri": "https://localhost:8080/"
        }
      },
      "source": [
        "# check missing values and data types\n",
        "real_estate.info()"
      ],
      "execution_count": 39,
      "outputs": [
        {
          "output_type": "stream",
          "text": [
            "<class 'pandas.core.frame.DataFrame'>\n",
            "RangeIndex: 2017 entries, 0 to 2016\n",
            "Data columns (total 10 columns):\n",
            " #   Column         Non-Null Count  Dtype \n",
            "---  ------         --------------  ----- \n",
            " 0   property_id    2017 non-null   object\n",
            " 1   lat            2017 non-null   object\n",
            " 2   lng            2017 non-null   object\n",
            " 3   addr_street    2017 non-null   object\n",
            " 4   price          2017 non-null   object\n",
            " 5   property_type  2017 non-null   object\n",
            " 6   year           2017 non-null   object\n",
            " 7   bedrooms       2017 non-null   object\n",
            " 8   bathrooms      2017 non-null   object\n",
            " 9   parking_space  2017 non-null   object\n",
            "dtypes: object(10)\n",
            "memory usage: 157.7+ KB\n"
          ],
          "name": "stdout"
        }
      ]
    },
    {
      "cell_type": "code",
      "metadata": {
        "id": "odqZ8u2VSpkv"
      },
      "source": [
        "# correct the data types for later calculation and aggregation\n",
        "real_estate = real_estate.astype({'lat':'float64', 'lng':'float64', 'price':'int64', 'year':'int64', 'bedrooms':'int64', 'bathrooms':'int64', 'parking_space':'int64'})"
      ],
      "execution_count": 40,
      "outputs": []
    },
    {
      "cell_type": "code",
      "metadata": {
        "id": "mJU5iqkjS4nr",
        "outputId": "b014e9e7-3526-4a09-d964-746041bbc7b1",
        "colab": {
          "base_uri": "https://localhost:8080/",
          "height": 297
        }
      },
      "source": [
        "# check distribution of numerical data\n",
        "real_estate.describe()"
      ],
      "execution_count": 41,
      "outputs": [
        {
          "output_type": "execute_result",
          "data": {
            "text/html": [
              "<div>\n",
              "<style scoped>\n",
              "    .dataframe tbody tr th:only-of-type {\n",
              "        vertical-align: middle;\n",
              "    }\n",
              "\n",
              "    .dataframe tbody tr th {\n",
              "        vertical-align: top;\n",
              "    }\n",
              "\n",
              "    .dataframe thead th {\n",
              "        text-align: right;\n",
              "    }\n",
              "</style>\n",
              "<table border=\"1\" class=\"dataframe\">\n",
              "  <thead>\n",
              "    <tr style=\"text-align: right;\">\n",
              "      <th></th>\n",
              "      <th>lat</th>\n",
              "      <th>lng</th>\n",
              "      <th>price</th>\n",
              "      <th>year</th>\n",
              "      <th>bedrooms</th>\n",
              "      <th>bathrooms</th>\n",
              "      <th>parking_space</th>\n",
              "    </tr>\n",
              "  </thead>\n",
              "  <tbody>\n",
              "    <tr>\n",
              "      <th>count</th>\n",
              "      <td>2017.000000</td>\n",
              "      <td>2017.000000</td>\n",
              "      <td>2.017000e+03</td>\n",
              "      <td>2017.000000</td>\n",
              "      <td>2017.000000</td>\n",
              "      <td>2017.000000</td>\n",
              "      <td>2017.000000</td>\n",
              "    </tr>\n",
              "    <tr>\n",
              "      <th>mean</th>\n",
              "      <td>-37.804124</td>\n",
              "      <td>145.037705</td>\n",
              "      <td>9.182707e+06</td>\n",
              "      <td>2012.252355</td>\n",
              "      <td>3.231036</td>\n",
              "      <td>1.565196</td>\n",
              "      <td>1.524541</td>\n",
              "    </tr>\n",
              "    <tr>\n",
              "      <th>std</th>\n",
              "      <td>0.099166</td>\n",
              "      <td>0.134293</td>\n",
              "      <td>5.814574e+06</td>\n",
              "      <td>2.593734</td>\n",
              "      <td>0.761922</td>\n",
              "      <td>0.608992</td>\n",
              "      <td>0.790894</td>\n",
              "    </tr>\n",
              "    <tr>\n",
              "      <th>min</th>\n",
              "      <td>-38.074352</td>\n",
              "      <td>144.633537</td>\n",
              "      <td>1.062000e+06</td>\n",
              "      <td>2005.000000</td>\n",
              "      <td>1.000000</td>\n",
              "      <td>1.000000</td>\n",
              "      <td>0.000000</td>\n",
              "    </tr>\n",
              "    <tr>\n",
              "      <th>25%</th>\n",
              "      <td>-37.864096</td>\n",
              "      <td>144.937768</td>\n",
              "      <td>5.130000e+06</td>\n",
              "      <td>2010.000000</td>\n",
              "      <td>3.000000</td>\n",
              "      <td>1.000000</td>\n",
              "      <td>1.000000</td>\n",
              "    </tr>\n",
              "    <tr>\n",
              "      <th>50%</th>\n",
              "      <td>-37.795872</td>\n",
              "      <td>145.033129</td>\n",
              "      <td>7.610000e+06</td>\n",
              "      <td>2012.000000</td>\n",
              "      <td>3.000000</td>\n",
              "      <td>2.000000</td>\n",
              "      <td>2.000000</td>\n",
              "    </tr>\n",
              "    <tr>\n",
              "      <th>75%</th>\n",
              "      <td>-37.735204</td>\n",
              "      <td>145.109431</td>\n",
              "      <td>1.125000e+07</td>\n",
              "      <td>2015.000000</td>\n",
              "      <td>4.000000</td>\n",
              "      <td>2.000000</td>\n",
              "      <td>2.000000</td>\n",
              "    </tr>\n",
              "    <tr>\n",
              "      <th>max</th>\n",
              "      <td>-37.569869</td>\n",
              "      <td>145.370617</td>\n",
              "      <td>4.420000e+07</td>\n",
              "      <td>2016.000000</td>\n",
              "      <td>5.000000</td>\n",
              "      <td>3.000000</td>\n",
              "      <td>3.000000</td>\n",
              "    </tr>\n",
              "  </tbody>\n",
              "</table>\n",
              "</div>"
            ],
            "text/plain": [
              "               lat          lng  ...    bathrooms  parking_space\n",
              "count  2017.000000  2017.000000  ...  2017.000000    2017.000000\n",
              "mean    -37.804124   145.037705  ...     1.565196       1.524541\n",
              "std       0.099166     0.134293  ...     0.608992       0.790894\n",
              "min     -38.074352   144.633537  ...     1.000000       0.000000\n",
              "25%     -37.864096   144.937768  ...     1.000000       1.000000\n",
              "50%     -37.795872   145.033129  ...     2.000000       2.000000\n",
              "75%     -37.735204   145.109431  ...     2.000000       2.000000\n",
              "max     -37.569869   145.370617  ...     3.000000       3.000000\n",
              "\n",
              "[8 rows x 7 columns]"
            ]
          },
          "metadata": {
            "tags": []
          },
          "execution_count": 41
        }
      ]
    },
    {
      "cell_type": "markdown",
      "metadata": {
        "id": "K6Pf213BUv8H"
      },
      "source": [
        "The is no problem in the distribution of latitude and longitude "
      ]
    },
    {
      "cell_type": "code",
      "metadata": {
        "id": "dXFIgWCaTEeJ",
        "outputId": "1824d693-d868-4e1b-9d7c-f014bbefb989",
        "colab": {
          "base_uri": "https://localhost:8080/"
        }
      },
      "source": [
        "real_estate['property_type'].value_counts().sort_index()"
      ],
      "execution_count": 42,
      "outputs": [
        {
          "output_type": "execute_result",
          "data": {
            "text/plain": [
              "house    2017\n",
              "Name: property_type, dtype: int64"
            ]
          },
          "metadata": {
            "tags": []
          },
          "execution_count": 42
        }
      ]
    },
    {
      "cell_type": "code",
      "metadata": {
        "id": "_6EqrjUfTNoA",
        "outputId": "7305a21d-ffd7-41cc-bf42-8cf0075477ca",
        "colab": {
          "base_uri": "https://localhost:8080/"
        }
      },
      "source": [
        "real_estate['year'].value_counts().sort_index()"
      ],
      "execution_count": 43,
      "outputs": [
        {
          "output_type": "execute_result",
          "data": {
            "text/plain": [
              "2005      1\n",
              "2006      8\n",
              "2007     17\n",
              "2008    132\n",
              "2009    236\n",
              "2010    215\n",
              "2011    207\n",
              "2012    226\n",
              "2013    194\n",
              "2014    254\n",
              "2015    288\n",
              "2016    239\n",
              "Name: year, dtype: int64"
            ]
          },
          "metadata": {
            "tags": []
          },
          "execution_count": 43
        }
      ]
    },
    {
      "cell_type": "code",
      "metadata": {
        "id": "xCxSjsVOTN3Z",
        "outputId": "cc8d8ab9-5631-40ef-cbfb-3d17d0d6320c",
        "colab": {
          "base_uri": "https://localhost:8080/"
        }
      },
      "source": [
        "real_estate['bedrooms'].value_counts().sort_index()"
      ],
      "execution_count": 44,
      "outputs": [
        {
          "output_type": "execute_result",
          "data": {
            "text/plain": [
              "1      15\n",
              "2     246\n",
              "3    1129\n",
              "4     512\n",
              "5     115\n",
              "Name: bedrooms, dtype: int64"
            ]
          },
          "metadata": {
            "tags": []
          },
          "execution_count": 44
        }
      ]
    },
    {
      "cell_type": "markdown",
      "metadata": {
        "id": "OusO6FCmURu4"
      },
      "source": [
        "There are no problem in number of bedroom in each property. Most of the properties have 3 bedrooms."
      ]
    },
    {
      "cell_type": "code",
      "metadata": {
        "id": "noQAs0UPTPB_",
        "outputId": "c70f0f1d-923e-4691-b097-1bce70e017a3",
        "colab": {
          "base_uri": "https://localhost:8080/"
        }
      },
      "source": [
        "real_estate['bathrooms'].value_counts().sort_index()"
      ],
      "execution_count": 45,
      "outputs": [
        {
          "output_type": "execute_result",
          "data": {
            "text/plain": [
              "1    1003\n",
              "2     888\n",
              "3     126\n",
              "Name: bathrooms, dtype: int64"
            ]
          },
          "metadata": {
            "tags": []
          },
          "execution_count": 45
        }
      ]
    },
    {
      "cell_type": "markdown",
      "metadata": {
        "id": "WBH-a5HGUKVq"
      },
      "source": [
        "The number bathrooms per property seems normal, most of the properties have 1 bathroom."
      ]
    },
    {
      "cell_type": "code",
      "metadata": {
        "id": "Hy2angZdTP-I",
        "outputId": "c5656d91-593d-4f8f-c74e-64df7af63fb5",
        "colab": {
          "base_uri": "https://localhost:8080/"
        }
      },
      "source": [
        "real_estate['parking_space'].value_counts().sort_index()"
      ],
      "execution_count": 46,
      "outputs": [
        {
          "output_type": "execute_result",
          "data": {
            "text/plain": [
              "0     239\n",
              "1     621\n",
              "2    1017\n",
              "3     140\n",
              "Name: parking_space, dtype: int64"
            ]
          },
          "metadata": {
            "tags": []
          },
          "execution_count": 46
        }
      ]
    },
    {
      "cell_type": "markdown",
      "metadata": {
        "id": "5EeGYRyATSlP"
      },
      "source": [
        "The number of parking space are normal, most of the properties have 2 parking spaces."
      ]
    },
    {
      "cell_type": "markdown",
      "metadata": {
        "id": "kyjHYU31Wkkk"
      },
      "source": [
        "### 1.7. Parsing text file"
      ]
    },
    {
      "cell_type": "code",
      "metadata": {
        "id": "VxWuq0h9WlOt"
      },
      "source": [
        "# import needed files to calculate time to CBD\n",
        "train_stops = pd.read_csv('stops.txt', sep=\",\")\n",
        "train_trip = pd.read_csv('stop_times.txt', sep=\",\")\n",
        "trips = pd.read_csv('trips.txt', sep=\",\")\n",
        "calendar = pd.read_csv('calendar.txt', sep=\",\")"
      ],
      "execution_count": 50,
      "outputs": []
    },
    {
      "cell_type": "code",
      "metadata": {
        "id": "wFdsKqq0W7P8"
      },
      "source": [
        "# change columns name to match other dataframe\n",
        "train_stops = train_stops.rename(columns={'stop_lat':'lat', 'stop_lon':'lng'})"
      ],
      "execution_count": 51,
      "outputs": []
    },
    {
      "cell_type": "code",
      "metadata": {
        "id": "LNn18H-4XCMB",
        "outputId": "33b87175-d21a-4647-8592-808f338db3c6",
        "colab": {
          "base_uri": "https://localhost:8080/",
          "height": 297
        }
      },
      "source": [
        "# check distribution of lat and lng\n",
        "train_stops.describe()"
      ],
      "execution_count": 52,
      "outputs": [
        {
          "output_type": "execute_result",
          "data": {
            "text/html": [
              "<div>\n",
              "<style scoped>\n",
              "    .dataframe tbody tr th:only-of-type {\n",
              "        vertical-align: middle;\n",
              "    }\n",
              "\n",
              "    .dataframe tbody tr th {\n",
              "        vertical-align: top;\n",
              "    }\n",
              "\n",
              "    .dataframe thead th {\n",
              "        text-align: right;\n",
              "    }\n",
              "</style>\n",
              "<table border=\"1\" class=\"dataframe\">\n",
              "  <thead>\n",
              "    <tr style=\"text-align: right;\">\n",
              "      <th></th>\n",
              "      <th>stop_id</th>\n",
              "      <th>lat</th>\n",
              "      <th>lng</th>\n",
              "    </tr>\n",
              "  </thead>\n",
              "  <tbody>\n",
              "    <tr>\n",
              "      <th>count</th>\n",
              "      <td>218.000000</td>\n",
              "      <td>218.000000</td>\n",
              "      <td>218.000000</td>\n",
              "    </tr>\n",
              "    <tr>\n",
              "      <th>mean</th>\n",
              "      <td>20678.151376</td>\n",
              "      <td>-37.854410</td>\n",
              "      <td>145.043714</td>\n",
              "    </tr>\n",
              "    <tr>\n",
              "      <th>std</th>\n",
              "      <td>4335.915404</td>\n",
              "      <td>0.138308</td>\n",
              "      <td>0.140996</td>\n",
              "    </tr>\n",
              "    <tr>\n",
              "      <th>min</th>\n",
              "      <td>15351.000000</td>\n",
              "      <td>-38.374235</td>\n",
              "      <td>144.661118</td>\n",
              "    </tr>\n",
              "    <tr>\n",
              "      <th>25%</th>\n",
              "      <td>19879.250000</td>\n",
              "      <td>-37.898707</td>\n",
              "      <td>144.959826</td>\n",
              "    </tr>\n",
              "    <tr>\n",
              "      <th>50%</th>\n",
              "      <td>19933.500000</td>\n",
              "      <td>-37.826147</td>\n",
              "      <td>145.032403</td>\n",
              "    </tr>\n",
              "    <tr>\n",
              "      <th>75%</th>\n",
              "      <td>19990.750000</td>\n",
              "      <td>-37.775067</td>\n",
              "      <td>145.121494</td>\n",
              "    </tr>\n",
              "    <tr>\n",
              "      <th>max</th>\n",
              "      <td>46468.000000</td>\n",
              "      <td>-37.579091</td>\n",
              "      <td>145.486379</td>\n",
              "    </tr>\n",
              "  </tbody>\n",
              "</table>\n",
              "</div>"
            ],
            "text/plain": [
              "            stop_id         lat         lng\n",
              "count    218.000000  218.000000  218.000000\n",
              "mean   20678.151376  -37.854410  145.043714\n",
              "std     4335.915404    0.138308    0.140996\n",
              "min    15351.000000  -38.374235  144.661118\n",
              "25%    19879.250000  -37.898707  144.959826\n",
              "50%    19933.500000  -37.826147  145.032403\n",
              "75%    19990.750000  -37.775067  145.121494\n",
              "max    46468.000000  -37.579091  145.486379"
            ]
          },
          "metadata": {
            "tags": []
          },
          "execution_count": 52
        }
      ]
    },
    {
      "cell_type": "markdown",
      "metadata": {
        "id": "Hf9k19xBVC6V"
      },
      "source": [
        "### 1.8. Integrate dataset"
      ]
    },
    {
      "cell_type": "markdown",
      "metadata": {
        "id": "4iwNDoWgX8V9"
      },
      "source": [
        "#### 1.8.1. Adding surburb"
      ]
    },
    {
      "cell_type": "code",
      "metadata": {
        "id": "3tm1iqGSXxqc",
        "outputId": "9f80ff71-2309-4fb0-dd5b-fdc157ce5079",
        "colab": {
          "base_uri": "https://localhost:8080/"
        }
      },
      "source": [
        "pip install pyshp"
      ],
      "execution_count": 59,
      "outputs": [
        {
          "output_type": "stream",
          "text": [
            "Collecting pyshp\n",
            "\u001b[?25l  Downloading https://files.pythonhosted.org/packages/ca/1f/e9cc2c3fce32e2926581f8b6905831165235464c858ba550b6e9b8ef78c3/pyshp-2.1.2.tar.gz (217kB)\n",
            "\u001b[K     |████████████████████████████████| 225kB 2.7MB/s \n",
            "\u001b[?25hBuilding wheels for collected packages: pyshp\n",
            "  Building wheel for pyshp (setup.py) ... \u001b[?25l\u001b[?25hdone\n",
            "  Created wheel for pyshp: filename=pyshp-2.1.2-cp36-none-any.whl size=36216 sha256=2a4d762ef2b5afd2719a559008a85e61bc6791ba387a2f5c4d6a8ea014a7beec\n",
            "  Stored in directory: /root/.cache/pip/wheels/96/6c/53/4112475adf3b831da97f083163d0f38ee6daac9c1b13f7afea\n",
            "Successfully built pyshp\n",
            "Installing collected packages: pyshp\n",
            "Successfully installed pyshp-2.1.2\n"
          ],
          "name": "stdout"
        }
      ]
    },
    {
      "cell_type": "code",
      "metadata": {
        "id": "WWRrgCQbYfvN"
      },
      "source": [
        "import numpy\n",
        "import matplotlib\n",
        "%matplotlib inline\n",
        "import shapefile\n",
        "import matplotlib.pyplot as plt\n",
        "import matplotlib.patches as patches\n",
        "from matplotlib.patches import Polygon\n",
        "from matplotlib.collections import PatchCollection\n",
        "import shapely.geometry as geometry"
      ],
      "execution_count": 60,
      "outputs": []
    },
    {
      "cell_type": "code",
      "metadata": {
        "id": "DHwVGPfLYh5M"
      },
      "source": [
        "# import shape file\n",
        "sf = shapefile.Reader(\"VIC_LOCALITY_POLYGON_shp\")\n",
        "records = sf.records()\n",
        "shapes = sf.shapes()"
      ],
      "execution_count": 61,
      "outputs": []
    },
    {
      "cell_type": "code",
      "metadata": {
        "id": "ogNMRAMpYiT-",
        "outputId": "ff384572-0b73-4124-f899-539b41a1baf8",
        "colab": {
          "base_uri": "https://localhost:8080/",
          "height": 374
        }
      },
      "source": [
        "# plotting the surburb map and position of properties\n",
        "cm = matplotlib.cm.get_cmap('Dark2')\n",
        "\n",
        "Nshp = len(shapes)\n",
        "cccol = cm(1.*numpy.arange(Nshp)/Nshp)\n",
        "\n",
        "fig = plt.figure(figsize=(12,6))\n",
        "ax = fig.add_subplot(111)\n",
        "\n",
        "for nshp in range(Nshp):\n",
        "  ptchs = []\n",
        "  pts = numpy.array(shapes[nshp].points)\n",
        "  prt = shapes[nshp].parts\n",
        "  par = list(prt) + [pts.shape[0]]\n",
        "\n",
        "  for pij in range(len(prt)):\n",
        "    ptchs.append(Polygon(pts[par[pij]:par[pij+1]]))\n",
        "  ax.add_collection(PatchCollection(ptchs, facecolor=cccol[nshp,:], edgecolor='k', linewidths=0.1))\n",
        "\n",
        "plt.plot(real_estate['lng'], real_estate['lat'],marker=\".\", linestyle=\"\", color='black')\n",
        "\n",
        "ax.set_xlim(144.6335,145.3706)\n",
        "ax.set_ylim(-38.0744,-37.5699)\n",
        "plt.show()\n"
      ],
      "execution_count": 62,
      "outputs": [
        {
          "output_type": "display_data",
          "data": {
            "image/png": "[encoded data removed]",
            "text/plain": [
              "<Figure size 864x432 with 1 Axes>"
            ]
          },
          "metadata": {
            "tags": [],
            "needs_background": "light"
          }
        }
      ]
    },
    {
      "cell_type": "code",
      "metadata": {
        "id": "kbqyKGWaYjjS"
      },
      "source": [
        "def locate_sub(data):\n",
        "  '''\n",
        "    Finding surburb for each coordinate\n",
        "  '''\n",
        "  loc = data['lng'], data['lat']\n",
        "  records = sf.records()\n",
        "  shapes = sf.shapes()\n",
        "  for i in range(0, len(shapes)):\n",
        "    boundary = shapes[i]\n",
        "    name_ = records[i][6]\n",
        "\n",
        "    if geometry.Point(loc).within(geometry.shape(boundary)):\n",
        "      name_ = records[i][6]\n",
        "      return name_"
      ],
      "execution_count": 63,
      "outputs": []
    },
    {
      "cell_type": "code",
      "metadata": {
        "id": "_5lM_J_zY9UD"
      },
      "source": [
        "real_estate['surburb'] = real_estate.apply(locate_sub, axis=1)"
      ],
      "execution_count": null,
      "outputs": []
    },
    {
      "cell_type": "code",
      "metadata": {
        "id": "NfGpFePNY_ha"
      },
      "source": [
        "# take a look at the results\n",
        "real_estate.head(3)"
      ],
      "execution_count": null,
      "outputs": []
    },
    {
      "cell_type": "code",
      "metadata": {
        "id": "aVifGnJFZFYL"
      },
      "source": [
        "# backup data\n",
        "real_estate.to_csv('real_estate_sub.csv', index=False)"
      ],
      "execution_count": null,
      "outputs": []
    },
    {
      "cell_type": "code",
      "metadata": {
        "id": "6hLALak4gNBa"
      },
      "source": [
        "# reorder the columns\n",
        "real_estate = real_estate[['property_id','lat','lng','addr_street','surburb','price','property_type','year','bedrooms','bathrooms','parking_space']]"
      ],
      "execution_count": null,
      "outputs": []
    },
    {
      "cell_type": "markdown",
      "metadata": {
        "id": "5asfczfIVJZQ"
      },
      "source": [
        "#### 1.8.2 Adding near by locations:"
      ]
    },
    {
      "cell_type": "code",
      "metadata": {
        "id": "ISW70VkVTQ87"
      },
      "source": [
        "import math\n",
        "# function to find minimum distance between two location \n",
        "def min_location(dataA, dataB): \n",
        "  '''\n",
        "    Function to identify the nearest location B to location A\n",
        "    Location A is each property \n",
        "    Location B can be a hospital, a supermarket or a shopping center\n",
        "    Output: location B id for each location A id\n",
        "  ''' \n",
        "  radius = 6378 # Earth radius\n",
        "\n",
        "  min_dist = 0.0\n",
        "  nearest_locB = str()\n",
        "  latA, lngA = dataA.loc['lat'], dataA.loc['lng']\n",
        "\n",
        "  for j in dataB.index:      \n",
        "    \n",
        "    latB, lngB = dataB.loc[j, 'lat'], dataB.loc[j, 'lng']\n",
        "\n",
        "    # calculate the distance between each location possible\n",
        "    dlat = math.radians(latB - latA)\n",
        "    dlng = math.radians(lngB - lngA)\n",
        "    a = math.sin(dlat/2) * math.sin(dlat/2) + math.cos(math.radians(latA)) * math.cos(math.radians(latB)) * math.sin(dlng/2) * math.sin(dlng/2)\n",
        "    c = 2 * math.atan2(math.sqrt(a), math.sqrt(1-a))      \n",
        "    d = radius * c\n",
        "\n",
        "    # identify the minimum distance for locA to locB\n",
        "    if j == 0:\n",
        "      min_dist = d\n",
        "      nearest_locB = dataB.iloc[j, 0]\n",
        "\n",
        "    elif d <= min_dist:\n",
        "      min_dist = d\n",
        "      nearest_locB = dataB.iloc[j, 0]\n",
        "      \n",
        "  return (nearest_locB, min_dist)\n"
      ],
      "execution_count": 48,
      "outputs": []
    },
    {
      "cell_type": "code",
      "metadata": {
        "id": "nvNHrTrpVVco"
      },
      "source": [
        "# add nearest shopping center and distance to it\n",
        "real_estate['Shopping_center_id'] = real_estate.apply(lambda x: min_location(x, shopping_centers)[0], axis=1)\n",
        "real_estate['Distance_to_sc'] = real_estate.apply(lambda x: min_location(x, shopping_centers)[1], axis=1)\n",
        "\n",
        "# add nearest train station and distance to it\n",
        "real_estate['Train_station_id'] = real_estate.apply(lambda x: min_location(x, train_stops)[0], axis=1)\n",
        "real_estate['Distance_to_train_station'] = real_estate.apply(lambda x: min_location(x, train_stops)[1], axis=1)\n",
        "\n",
        "# place holder for distance to CBD and transfer flag\n",
        "real_estate['travel_min_to_CBD'] = 0 # default value\n",
        "real_estate['Transfer_flag'] = -1 # default value\n",
        "\n",
        "# add nearest hospital and distance to it\n",
        "real_estate['Hospital_id'] = real_estate.apply(lambda x: min_location(x, hospitals)[0], axis=1)\n",
        "real_estate['Distance_to_hospital'] = real_estate.apply(lambda x: min_location(x, hospitals)[1], axis=1)\n",
        "\n",
        "# add nearest supermarket and distance to it\n",
        "real_estate['Supermarket_id'] = real_estate.apply(lambda x: min_location(x, super_markets)[0], axis=1)\n",
        "real_estate['Distance_to_supermarket'] = real_estate.apply(lambda x: min_location(x, super_markets)[1], axis=1)"
      ],
      "execution_count": 57,
      "outputs": []
    },
    {
      "cell_type": "code",
      "metadata": {
        "id": "omRR1OypXVdA",
        "outputId": "bdff3ef5-44e1-497c-ab16-3a0bdc8124ad",
        "colab": {
          "base_uri": "https://localhost:8080/",
          "height": 309
        }
      },
      "source": [
        "# take a look at the results\n",
        "real_estate.head()"
      ],
      "execution_count": 58,
      "outputs": [
        {
          "output_type": "execute_result",
          "data": {
            "text/html": [
              "<div>\n",
              "<style scoped>\n",
              "    .dataframe tbody tr th:only-of-type {\n",
              "        vertical-align: middle;\n",
              "    }\n",
              "\n",
              "    .dataframe tbody tr th {\n",
              "        vertical-align: top;\n",
              "    }\n",
              "\n",
              "    .dataframe thead th {\n",
              "        text-align: right;\n",
              "    }\n",
              "</style>\n",
              "<table border=\"1\" class=\"dataframe\">\n",
              "  <thead>\n",
              "    <tr style=\"text-align: right;\">\n",
              "      <th></th>\n",
              "      <th>property_id</th>\n",
              "      <th>lat</th>\n",
              "      <th>lng</th>\n",
              "      <th>addr_street</th>\n",
              "      <th>price</th>\n",
              "      <th>property_type</th>\n",
              "      <th>year</th>\n",
              "      <th>bedrooms</th>\n",
              "      <th>bathrooms</th>\n",
              "      <th>parking_space</th>\n",
              "      <th>Shopping_center_id</th>\n",
              "      <th>Distance_to_sc</th>\n",
              "      <th>Train_station_id</th>\n",
              "      <th>Distance_to_train_station</th>\n",
              "      <th>travel_min_to_CBD</th>\n",
              "      <th>Transfer_flag</th>\n",
              "      <th>Hospital_id</th>\n",
              "      <th>Distance_to_hospital</th>\n",
              "      <th>Supermarket_id</th>\n",
              "      <th>Distance_to_supermarket</th>\n",
              "    </tr>\n",
              "  </thead>\n",
              "  <tbody>\n",
              "    <tr>\n",
              "      <th>0</th>\n",
              "      <td>87107</td>\n",
              "      <td>-37.907873</td>\n",
              "      <td>144.991190</td>\n",
              "      <td>8 Cadby Street</td>\n",
              "      <td>33600000</td>\n",
              "      <td>house</td>\n",
              "      <td>2016</td>\n",
              "      <td>4</td>\n",
              "      <td>3</td>\n",
              "      <td>2</td>\n",
              "      <td>SC_015</td>\n",
              "      <td>4.457996</td>\n",
              "      <td>19951</td>\n",
              "      <td>0.924508</td>\n",
              "      <td>0</td>\n",
              "      <td>-1</td>\n",
              "      <td>hospital_013</td>\n",
              "      <td>2.323314</td>\n",
              "      <td>S_150</td>\n",
              "      <td>0.651356</td>\n",
              "    </tr>\n",
              "    <tr>\n",
              "      <th>1</th>\n",
              "      <td>65099</td>\n",
              "      <td>-37.813056</td>\n",
              "      <td>145.315607</td>\n",
              "      <td>118 Liverpool Road</td>\n",
              "      <td>4303000</td>\n",
              "      <td>house</td>\n",
              "      <td>2013</td>\n",
              "      <td>4</td>\n",
              "      <td>2</td>\n",
              "      <td>0</td>\n",
              "      <td>SC_022</td>\n",
              "      <td>3.256251</td>\n",
              "      <td>19877</td>\n",
              "      <td>3.163655</td>\n",
              "      <td>0</td>\n",
              "      <td>-1</td>\n",
              "      <td>hospital_049</td>\n",
              "      <td>6.227128</td>\n",
              "      <td>S_224</td>\n",
              "      <td>1.300124</td>\n",
              "    </tr>\n",
              "    <tr>\n",
              "      <th>2</th>\n",
              "      <td>68670</td>\n",
              "      <td>-37.855055</td>\n",
              "      <td>145.022366</td>\n",
              "      <td>8 Moorhouse Street</td>\n",
              "      <td>23140000</td>\n",
              "      <td>house</td>\n",
              "      <td>2011</td>\n",
              "      <td>3</td>\n",
              "      <td>2</td>\n",
              "      <td>1</td>\n",
              "      <td>SC_038</td>\n",
              "      <td>2.034227</td>\n",
              "      <td>19945</td>\n",
              "      <td>0.309206</td>\n",
              "      <td>0</td>\n",
              "      <td>-1</td>\n",
              "      <td>hospital_012</td>\n",
              "      <td>2.075356</td>\n",
              "      <td>S_235</td>\n",
              "      <td>0.811352</td>\n",
              "    </tr>\n",
              "    <tr>\n",
              "      <th>3</th>\n",
              "      <td>37971</td>\n",
              "      <td>-37.772679</td>\n",
              "      <td>145.025928</td>\n",
              "      <td>127 Grange Road</td>\n",
              "      <td>9814000</td>\n",
              "      <td>house</td>\n",
              "      <td>2011</td>\n",
              "      <td>3</td>\n",
              "      <td>2</td>\n",
              "      <td>2</td>\n",
              "      <td>SC_001</td>\n",
              "      <td>1.493098</td>\n",
              "      <td>19931</td>\n",
              "      <td>0.790158</td>\n",
              "      <td>0</td>\n",
              "      <td>-1</td>\n",
              "      <td>hospital_039</td>\n",
              "      <td>1.120798</td>\n",
              "      <td>S_219</td>\n",
              "      <td>1.474455</td>\n",
              "    </tr>\n",
              "    <tr>\n",
              "      <th>4</th>\n",
              "      <td>52209</td>\n",
              "      <td>-37.825393</td>\n",
              "      <td>145.011156</td>\n",
              "      <td>12 Khartoum Street</td>\n",
              "      <td>4807000</td>\n",
              "      <td>house</td>\n",
              "      <td>2016</td>\n",
              "      <td>4</td>\n",
              "      <td>3</td>\n",
              "      <td>1</td>\n",
              "      <td>SC_038</td>\n",
              "      <td>1.708713</td>\n",
              "      <td>19906</td>\n",
              "      <td>0.398048</td>\n",
              "      <td>0</td>\n",
              "      <td>-1</td>\n",
              "      <td>hospital_042</td>\n",
              "      <td>1.581068</td>\n",
              "      <td>S_102</td>\n",
              "      <td>1.684290</td>\n",
              "    </tr>\n",
              "  </tbody>\n",
              "</table>\n",
              "</div>"
            ],
            "text/plain": [
              "  property_id        lat  ...  Supermarket_id Distance_to_supermarket\n",
              "0       87107 -37.907873  ...           S_150                0.651356\n",
              "1       65099 -37.813056  ...           S_224                1.300124\n",
              "2       68670 -37.855055  ...           S_235                0.811352\n",
              "3       37971 -37.772679  ...           S_219                1.474455\n",
              "4       52209 -37.825393  ...           S_102                1.684290\n",
              "\n",
              "[5 rows x 20 columns]"
            ]
          },
          "metadata": {
            "tags": []
          },
          "execution_count": 58
        }
      ]
    },
    {
      "cell_type": "markdown",
      "metadata": {
        "id": "KONyRX-NZNC4"
      },
      "source": [
        "#### 1.8.3 Adding time to CBD"
      ]
    },
    {
      "cell_type": "code",
      "metadata": {
        "id": "v7CoILouZQNi",
        "outputId": "a8fec1d2-d3e4-468e-a1a4-fa44d62f8a25",
        "colab": {
          "base_uri": "https://localhost:8080/",
          "height": 80
        }
      },
      "source": [
        "# look for Flinder Station stop id\n",
        "train_stops[train_stops['stop_name']=='Flinders Street Railway Station']"
      ],
      "execution_count": 64,
      "outputs": [
        {
          "output_type": "execute_result",
          "data": {
            "text/html": [
              "<div>\n",
              "<style scoped>\n",
              "    .dataframe tbody tr th:only-of-type {\n",
              "        vertical-align: middle;\n",
              "    }\n",
              "\n",
              "    .dataframe tbody tr th {\n",
              "        vertical-align: top;\n",
              "    }\n",
              "\n",
              "    .dataframe thead th {\n",
              "        text-align: right;\n",
              "    }\n",
              "</style>\n",
              "<table border=\"1\" class=\"dataframe\">\n",
              "  <thead>\n",
              "    <tr style=\"text-align: right;\">\n",
              "      <th></th>\n",
              "      <th>stop_id</th>\n",
              "      <th>stop_name</th>\n",
              "      <th>stop_short_name</th>\n",
              "      <th>lat</th>\n",
              "      <th>lng</th>\n",
              "    </tr>\n",
              "  </thead>\n",
              "  <tbody>\n",
              "    <tr>\n",
              "      <th>29</th>\n",
              "      <td>19854</td>\n",
              "      <td>Flinders Street Railway Station</td>\n",
              "      <td>Melbourne City</td>\n",
              "      <td>-37.818305</td>\n",
              "      <td>144.966964</td>\n",
              "    </tr>\n",
              "  </tbody>\n",
              "</table>\n",
              "</div>"
            ],
            "text/plain": [
              "    stop_id                        stop_name  ...        lat         lng\n",
              "29    19854  Flinders Street Railway Station  ... -37.818305  144.966964\n",
              "\n",
              "[1 rows x 5 columns]"
            ]
          },
          "metadata": {
            "tags": []
          },
          "execution_count": 64
        }
      ]
    },
    {
      "cell_type": "code",
      "metadata": {
        "id": "r9x96THxZWSF"
      },
      "source": [
        "# flag trips that go through Flinder station\n",
        "train_trip['to_flinder'] = train_trip['stop_id'].apply(lambda x: 1 if x == 19854 else 0)"
      ],
      "execution_count": 65,
      "outputs": []
    },
    {
      "cell_type": "code",
      "metadata": {
        "id": "A1nYyxGFaLth"
      },
      "source": [
        "# weekday where trip run at least one day from Monday to Friday\n",
        "calendar['weekday'] = calendar['monday'] + calendar['tuesday'] + calendar['wednesday'] + calendar['thursday'] + calendar['friday']"
      ],
      "execution_count": 66,
      "outputs": []
    },
    {
      "cell_type": "code",
      "metadata": {
        "id": "0qDD0-YAaNHO"
      },
      "source": [
        "# new dataframe for trips go through Flinder station\n",
        "train_to_flinder = train_trip.groupby('trip_id').agg(\n",
        "    start_time = ('departure_time', min),\n",
        "    end_time = ('arrival_time', max),\n",
        "    # stop_counts = ('stop_sequence', count),\n",
        "    flinder_flag = ('to_flinder', sum)\n",
        ")"
      ],
      "execution_count": 67,
      "outputs": []
    },
    {
      "cell_type": "code",
      "metadata": {
        "id": "-NE1ugBqaORP",
        "outputId": "034c21e1-1d91-41fb-fac6-67f8b95ec706",
        "colab": {
          "base_uri": "https://localhost:8080/"
        }
      },
      "source": [
        "# number of trip go through Flinder station\n",
        "len(train_to_flinder[train_to_flinder['flinder_flag']==1].index)"
      ],
      "execution_count": 68,
      "outputs": [
        {
          "output_type": "execute_result",
          "data": {
            "text/plain": [
              "17850"
            ]
          },
          "metadata": {
            "tags": []
          },
          "execution_count": 68
        }
      ]
    },
    {
      "cell_type": "code",
      "metadata": {
        "id": "i23YxC4xaWJ4"
      },
      "source": [
        "# get service_id for each trip, to know it run on weekday or not\n",
        "train_trip = train_trip.merge(trips[['trip_id','service_id']], on='trip_id', how='left')"
      ],
      "execution_count": 76,
      "outputs": []
    },
    {
      "cell_type": "code",
      "metadata": {
        "id": "ONQT265jaaUV"
      },
      "source": [
        "# get only trips that run on weekday\n",
        "train_trip = train_trip[train_trip['service_id'].isin(calendar[calendar['weekday']>0]['service_id'])][['trip_id','arrival_time','departure_time','stop_id','stop_sequence']]"
      ],
      "execution_count": 77,
      "outputs": []
    },
    {
      "cell_type": "code",
      "metadata": {
        "id": "zJoztFZJaqci"
      },
      "source": [
        "# get only trips that run between 7AM and 9AM and go through Flinder station\n",
        "train_trip = train_trip[train_trip['trip_id'].isin(train_to_flinder[(train_to_flinder['start_time'] >= '07:00:00') & (train_to_flinder['start_time'] <= '09:00:00') & (train_to_flinder['flinder_flag'] == 1)].index)]"
      ],
      "execution_count": 78,
      "outputs": []
    },
    {
      "cell_type": "code",
      "metadata": {
        "id": "jNeQLHFYa4Hf"
      },
      "source": [
        "# get only trips that stop at Flinder station\n",
        "at_flinder = train_trip[train_trip['stop_id']==19854][['trip_id','arrival_time','departure_time','stop_id','stop_sequence']]"
      ],
      "execution_count": 79,
      "outputs": []
    },
    {
      "cell_type": "code",
      "metadata": {
        "id": "jOi0BLW2a9lL",
        "outputId": "14c7e108-63fb-4f50-c9a1-53e2659ca7c0",
        "colab": {
          "base_uri": "https://localhost:8080/",
          "height": 142
        }
      },
      "source": [
        "train_trip.head(3)"
      ],
      "execution_count": 80,
      "outputs": [
        {
          "output_type": "execute_result",
          "data": {
            "text/html": [
              "<div>\n",
              "<style scoped>\n",
              "    .dataframe tbody tr th:only-of-type {\n",
              "        vertical-align: middle;\n",
              "    }\n",
              "\n",
              "    .dataframe tbody tr th {\n",
              "        vertical-align: top;\n",
              "    }\n",
              "\n",
              "    .dataframe thead th {\n",
              "        text-align: right;\n",
              "    }\n",
              "</style>\n",
              "<table border=\"1\" class=\"dataframe\">\n",
              "  <thead>\n",
              "    <tr style=\"text-align: right;\">\n",
              "      <th></th>\n",
              "      <th>trip_id</th>\n",
              "      <th>arrival_time</th>\n",
              "      <th>departure_time</th>\n",
              "      <th>stop_id</th>\n",
              "      <th>stop_sequence</th>\n",
              "    </tr>\n",
              "  </thead>\n",
              "  <tbody>\n",
              "    <tr>\n",
              "      <th>1005</th>\n",
              "      <td>17183036.T6.2-ALM-B-mjp-1.2.H</td>\n",
              "      <td>07:01:00</td>\n",
              "      <td>07:01:00</td>\n",
              "      <td>19847</td>\n",
              "      <td>1</td>\n",
              "    </tr>\n",
              "    <tr>\n",
              "      <th>1006</th>\n",
              "      <td>17183036.T6.2-ALM-B-mjp-1.2.H</td>\n",
              "      <td>07:02:00</td>\n",
              "      <td>07:02:00</td>\n",
              "      <td>19848</td>\n",
              "      <td>2</td>\n",
              "    </tr>\n",
              "    <tr>\n",
              "      <th>1007</th>\n",
              "      <td>17183036.T6.2-ALM-B-mjp-1.2.H</td>\n",
              "      <td>07:04:00</td>\n",
              "      <td>07:04:00</td>\n",
              "      <td>19849</td>\n",
              "      <td>3</td>\n",
              "    </tr>\n",
              "  </tbody>\n",
              "</table>\n",
              "</div>"
            ],
            "text/plain": [
              "                            trip_id arrival_time  ... stop_id  stop_sequence\n",
              "1005  17183036.T6.2-ALM-B-mjp-1.2.H     07:01:00  ...   19847              1\n",
              "1006  17183036.T6.2-ALM-B-mjp-1.2.H     07:02:00  ...   19848              2\n",
              "1007  17183036.T6.2-ALM-B-mjp-1.2.H     07:04:00  ...   19849              3\n",
              "\n",
              "[3 rows x 5 columns]"
            ]
          },
          "metadata": {
            "tags": []
          },
          "execution_count": 80
        }
      ]
    },
    {
      "cell_type": "code",
      "metadata": {
        "id": "Sx8a7X4NbGAq",
        "outputId": "06e2446b-e5d2-4cd9-bbe1-1f463e06f82e",
        "colab": {
          "base_uri": "https://localhost:8080/",
          "height": 142
        }
      },
      "source": [
        "at_flinder.head(3)"
      ],
      "execution_count": 81,
      "outputs": [
        {
          "output_type": "execute_result",
          "data": {
            "text/html": [
              "<div>\n",
              "<style scoped>\n",
              "    .dataframe tbody tr th:only-of-type {\n",
              "        vertical-align: middle;\n",
              "    }\n",
              "\n",
              "    .dataframe tbody tr th {\n",
              "        vertical-align: top;\n",
              "    }\n",
              "\n",
              "    .dataframe thead th {\n",
              "        text-align: right;\n",
              "    }\n",
              "</style>\n",
              "<table border=\"1\" class=\"dataframe\">\n",
              "  <thead>\n",
              "    <tr style=\"text-align: right;\">\n",
              "      <th></th>\n",
              "      <th>trip_id</th>\n",
              "      <th>arrival_time</th>\n",
              "      <th>departure_time</th>\n",
              "      <th>stop_id</th>\n",
              "      <th>stop_sequence</th>\n",
              "    </tr>\n",
              "  </thead>\n",
              "  <tbody>\n",
              "    <tr>\n",
              "      <th>1021</th>\n",
              "      <td>17183036.T6.2-ALM-B-mjp-1.2.H</td>\n",
              "      <td>07:37:00</td>\n",
              "      <td>07:37:00</td>\n",
              "      <td>19854</td>\n",
              "      <td>18</td>\n",
              "    </tr>\n",
              "    <tr>\n",
              "      <th>1038</th>\n",
              "      <td>17183054.T6.2-ALM-B-mjp-1.2.H</td>\n",
              "      <td>09:12:00</td>\n",
              "      <td>09:12:00</td>\n",
              "      <td>19854</td>\n",
              "      <td>18</td>\n",
              "    </tr>\n",
              "    <tr>\n",
              "      <th>1055</th>\n",
              "      <td>17183040.T6.2-ALM-B-mjp-1.2.H</td>\n",
              "      <td>07:53:00</td>\n",
              "      <td>07:53:00</td>\n",
              "      <td>19854</td>\n",
              "      <td>18</td>\n",
              "    </tr>\n",
              "  </tbody>\n",
              "</table>\n",
              "</div>"
            ],
            "text/plain": [
              "                            trip_id arrival_time  ... stop_id  stop_sequence\n",
              "1021  17183036.T6.2-ALM-B-mjp-1.2.H     07:37:00  ...   19854             18\n",
              "1038  17183054.T6.2-ALM-B-mjp-1.2.H     09:12:00  ...   19854             18\n",
              "1055  17183040.T6.2-ALM-B-mjp-1.2.H     07:53:00  ...   19854             18\n",
              "\n",
              "[3 rows x 5 columns]"
            ]
          },
          "metadata": {
            "tags": []
          },
          "execution_count": 81
        }
      ]
    },
    {
      "cell_type": "code",
      "metadata": {
        "id": "TeUMiWgqbHnW"
      },
      "source": [
        "# merge two dataframe together, left join on trip_id\n",
        "stations_to_flinder = train_trip.merge(at_flinder, on='trip_id', how='left')"
      ],
      "execution_count": 82,
      "outputs": []
    },
    {
      "cell_type": "code",
      "metadata": {
        "id": "iGcmNl_QbNt6",
        "outputId": "5bdb005d-958f-4bb8-8f2a-891de312c479",
        "colab": {
          "base_uri": "https://localhost:8080/",
          "height": 142
        }
      },
      "source": [
        "stations_to_flinder.head(3)"
      ],
      "execution_count": 84,
      "outputs": [
        {
          "output_type": "execute_result",
          "data": {
            "text/html": [
              "<div>\n",
              "<style scoped>\n",
              "    .dataframe tbody tr th:only-of-type {\n",
              "        vertical-align: middle;\n",
              "    }\n",
              "\n",
              "    .dataframe tbody tr th {\n",
              "        vertical-align: top;\n",
              "    }\n",
              "\n",
              "    .dataframe thead th {\n",
              "        text-align: right;\n",
              "    }\n",
              "</style>\n",
              "<table border=\"1\" class=\"dataframe\">\n",
              "  <thead>\n",
              "    <tr style=\"text-align: right;\">\n",
              "      <th></th>\n",
              "      <th>trip_id</th>\n",
              "      <th>arrival_time_x</th>\n",
              "      <th>departure_time_x</th>\n",
              "      <th>stop_id_x</th>\n",
              "      <th>stop_sequence_x</th>\n",
              "      <th>arrival_time_y</th>\n",
              "      <th>departure_time_y</th>\n",
              "      <th>stop_id_y</th>\n",
              "      <th>stop_sequence_y</th>\n",
              "    </tr>\n",
              "  </thead>\n",
              "  <tbody>\n",
              "    <tr>\n",
              "      <th>0</th>\n",
              "      <td>17183036.T6.2-ALM-B-mjp-1.2.H</td>\n",
              "      <td>07:01:00</td>\n",
              "      <td>07:01:00</td>\n",
              "      <td>19847</td>\n",
              "      <td>1</td>\n",
              "      <td>07:37:00</td>\n",
              "      <td>07:37:00</td>\n",
              "      <td>19854</td>\n",
              "      <td>18</td>\n",
              "    </tr>\n",
              "    <tr>\n",
              "      <th>1</th>\n",
              "      <td>17183036.T6.2-ALM-B-mjp-1.2.H</td>\n",
              "      <td>07:02:00</td>\n",
              "      <td>07:02:00</td>\n",
              "      <td>19848</td>\n",
              "      <td>2</td>\n",
              "      <td>07:37:00</td>\n",
              "      <td>07:37:00</td>\n",
              "      <td>19854</td>\n",
              "      <td>18</td>\n",
              "    </tr>\n",
              "    <tr>\n",
              "      <th>2</th>\n",
              "      <td>17183036.T6.2-ALM-B-mjp-1.2.H</td>\n",
              "      <td>07:04:00</td>\n",
              "      <td>07:04:00</td>\n",
              "      <td>19849</td>\n",
              "      <td>3</td>\n",
              "      <td>07:37:00</td>\n",
              "      <td>07:37:00</td>\n",
              "      <td>19854</td>\n",
              "      <td>18</td>\n",
              "    </tr>\n",
              "  </tbody>\n",
              "</table>\n",
              "</div>"
            ],
            "text/plain": [
              "                         trip_id arrival_time_x  ... stop_id_y  stop_sequence_y\n",
              "0  17183036.T6.2-ALM-B-mjp-1.2.H       07:01:00  ...     19854               18\n",
              "1  17183036.T6.2-ALM-B-mjp-1.2.H       07:02:00  ...     19854               18\n",
              "2  17183036.T6.2-ALM-B-mjp-1.2.H       07:04:00  ...     19854               18\n",
              "\n",
              "[3 rows x 9 columns]"
            ]
          },
          "metadata": {
            "tags": []
          },
          "execution_count": 84
        }
      ]
    },
    {
      "cell_type": "code",
      "metadata": {
        "id": "HVH82ZKHbO3o"
      },
      "source": [
        "from datetime import datetime\n",
        "def time_between(data):\n",
        "  '''\n",
        "    Function to calculate time different between time depart from a station and time arrive to Flinder station\n",
        "  '''\n",
        "  td = (datetime.strptime(data['arrival_time_y'], '%H:%M:%S') - datetime.strptime(data['departure_time_x'], '%H:%M:%S')).seconds/60\n",
        "  return td"
      ],
      "execution_count": 88,
      "outputs": []
    },
    {
      "cell_type": "code",
      "metadata": {
        "id": "kF9GusQVbWjC"
      },
      "source": [
        "# calculate time in minute from a station to Flinder station\n",
        "stations_to_flinder['time_to_flinder'] = stations_to_flinder.apply(time_between, axis=1)"
      ],
      "execution_count": 89,
      "outputs": []
    },
    {
      "cell_type": "code",
      "metadata": {
        "id": "ycW-SwX9baUP",
        "outputId": "e3bf2279-ff82-40f7-cf3c-421627359350",
        "colab": {
          "base_uri": "https://localhost:8080/",
          "height": 204
        }
      },
      "source": [
        "stations_to_flinder.head(5)"
      ],
      "execution_count": 90,
      "outputs": [
        {
          "output_type": "execute_result",
          "data": {
            "text/html": [
              "<div>\n",
              "<style scoped>\n",
              "    .dataframe tbody tr th:only-of-type {\n",
              "        vertical-align: middle;\n",
              "    }\n",
              "\n",
              "    .dataframe tbody tr th {\n",
              "        vertical-align: top;\n",
              "    }\n",
              "\n",
              "    .dataframe thead th {\n",
              "        text-align: right;\n",
              "    }\n",
              "</style>\n",
              "<table border=\"1\" class=\"dataframe\">\n",
              "  <thead>\n",
              "    <tr style=\"text-align: right;\">\n",
              "      <th></th>\n",
              "      <th>trip_id</th>\n",
              "      <th>arrival_time_x</th>\n",
              "      <th>departure_time_x</th>\n",
              "      <th>stop_id_x</th>\n",
              "      <th>stop_sequence_x</th>\n",
              "      <th>arrival_time_y</th>\n",
              "      <th>departure_time_y</th>\n",
              "      <th>stop_id_y</th>\n",
              "      <th>stop_sequence_y</th>\n",
              "      <th>time_to_flinder</th>\n",
              "    </tr>\n",
              "  </thead>\n",
              "  <tbody>\n",
              "    <tr>\n",
              "      <th>0</th>\n",
              "      <td>17183036.T6.2-ALM-B-mjp-1.2.H</td>\n",
              "      <td>07:01:00</td>\n",
              "      <td>07:01:00</td>\n",
              "      <td>19847</td>\n",
              "      <td>1</td>\n",
              "      <td>07:37:00</td>\n",
              "      <td>07:37:00</td>\n",
              "      <td>19854</td>\n",
              "      <td>18</td>\n",
              "      <td>36.0</td>\n",
              "    </tr>\n",
              "    <tr>\n",
              "      <th>1</th>\n",
              "      <td>17183036.T6.2-ALM-B-mjp-1.2.H</td>\n",
              "      <td>07:02:00</td>\n",
              "      <td>07:02:00</td>\n",
              "      <td>19848</td>\n",
              "      <td>2</td>\n",
              "      <td>07:37:00</td>\n",
              "      <td>07:37:00</td>\n",
              "      <td>19854</td>\n",
              "      <td>18</td>\n",
              "      <td>35.0</td>\n",
              "    </tr>\n",
              "    <tr>\n",
              "      <th>2</th>\n",
              "      <td>17183036.T6.2-ALM-B-mjp-1.2.H</td>\n",
              "      <td>07:04:00</td>\n",
              "      <td>07:04:00</td>\n",
              "      <td>19849</td>\n",
              "      <td>3</td>\n",
              "      <td>07:37:00</td>\n",
              "      <td>07:37:00</td>\n",
              "      <td>19854</td>\n",
              "      <td>18</td>\n",
              "      <td>33.0</td>\n",
              "    </tr>\n",
              "    <tr>\n",
              "      <th>3</th>\n",
              "      <td>17183036.T6.2-ALM-B-mjp-1.2.H</td>\n",
              "      <td>07:06:00</td>\n",
              "      <td>07:06:00</td>\n",
              "      <td>19850</td>\n",
              "      <td>4</td>\n",
              "      <td>07:37:00</td>\n",
              "      <td>07:37:00</td>\n",
              "      <td>19854</td>\n",
              "      <td>18</td>\n",
              "      <td>31.0</td>\n",
              "    </tr>\n",
              "    <tr>\n",
              "      <th>4</th>\n",
              "      <td>17183036.T6.2-ALM-B-mjp-1.2.H</td>\n",
              "      <td>07:08:00</td>\n",
              "      <td>07:08:00</td>\n",
              "      <td>19851</td>\n",
              "      <td>5</td>\n",
              "      <td>07:37:00</td>\n",
              "      <td>07:37:00</td>\n",
              "      <td>19854</td>\n",
              "      <td>18</td>\n",
              "      <td>29.0</td>\n",
              "    </tr>\n",
              "  </tbody>\n",
              "</table>\n",
              "</div>"
            ],
            "text/plain": [
              "                         trip_id  ... time_to_flinder\n",
              "0  17183036.T6.2-ALM-B-mjp-1.2.H  ...            36.0\n",
              "1  17183036.T6.2-ALM-B-mjp-1.2.H  ...            35.0\n",
              "2  17183036.T6.2-ALM-B-mjp-1.2.H  ...            33.0\n",
              "3  17183036.T6.2-ALM-B-mjp-1.2.H  ...            31.0\n",
              "4  17183036.T6.2-ALM-B-mjp-1.2.H  ...            29.0\n",
              "\n",
              "[5 rows x 10 columns]"
            ]
          },
          "metadata": {
            "tags": []
          },
          "execution_count": 90
        }
      ]
    },
    {
      "cell_type": "code",
      "metadata": {
        "id": "0wJZMVUbbyRE"
      },
      "source": [
        "# get only trips to Flinder, remove trips from Flinder\n",
        "stations_to_flinder = stations_to_flinder[stations_to_flinder['stop_sequence_y'] > stations_to_flinder['stop_sequence_x']]"
      ],
      "execution_count": 91,
      "outputs": []
    },
    {
      "cell_type": "code",
      "metadata": {
        "id": "Ci3WjQr_cM-g"
      },
      "source": [
        "# get avarage time from a station to Flinder station\n",
        "time_to_flinder = stations_to_flinder[['stop_id_x','time_to_flinder']].groupby('stop_id_x').mean()\n",
        "time_to_flinder = time_to_flinder.reset_index()\n",
        "time_to_flinder = time_to_flinder.rename(columns={\"stop_id_x\": \"Train_station_id\", \"time_to_flinder\": \"travel_min_to_flinder\"})"
      ],
      "execution_count": 101,
      "outputs": []
    },
    {
      "cell_type": "code",
      "metadata": {
        "id": "spIj1vu8ccT8"
      },
      "source": [
        "# add time to CBD to real estate dataframe\n",
        "real_estate = real_estate.merge(time_to_flinder, on='Train_station_id', how='left')"
      ],
      "execution_count": 107,
      "outputs": []
    },
    {
      "cell_type": "code",
      "metadata": {
        "id": "vfiH-kapd0N_"
      },
      "source": [
        "# fill in place holder for travel_min_to_CBD\n",
        "real_estate['travel_min_to_CBD'] = real_estate['travel_min_to_flinder'].apply(lambda x: x if x > 0 else 0)\n",
        "real_estate = real_estate.drop('travel_min_to_flinder', axis=1)"
      ],
      "execution_count": 109,
      "outputs": []
    },
    {
      "cell_type": "code",
      "metadata": {
        "id": "L9pnWLGvcsie"
      },
      "source": [
        "# transfer flag\n",
        "real_estate['Transfer_flag'] = real_estate['Train_station_id'].apply(lambda x: 1 if x in stations_to_flinder['stop_id_x'].unique() else 0)\n"
      ],
      "execution_count": 98,
      "outputs": []
    },
    {
      "cell_type": "code",
      "metadata": {
        "id": "1L7_nFD_czJa",
        "outputId": "b8a9a137-f07f-49cf-9451-502c150215a4",
        "colab": {
          "base_uri": "https://localhost:8080/",
          "height": 309
        }
      },
      "source": [
        "real_estate.head()"
      ],
      "execution_count": 114,
      "outputs": [
        {
          "output_type": "execute_result",
          "data": {
            "text/html": [
              "<div>\n",
              "<style scoped>\n",
              "    .dataframe tbody tr th:only-of-type {\n",
              "        vertical-align: middle;\n",
              "    }\n",
              "\n",
              "    .dataframe tbody tr th {\n",
              "        vertical-align: top;\n",
              "    }\n",
              "\n",
              "    .dataframe thead th {\n",
              "        text-align: right;\n",
              "    }\n",
              "</style>\n",
              "<table border=\"1\" class=\"dataframe\">\n",
              "  <thead>\n",
              "    <tr style=\"text-align: right;\">\n",
              "      <th></th>\n",
              "      <th>property_id</th>\n",
              "      <th>lat</th>\n",
              "      <th>lng</th>\n",
              "      <th>addr_street</th>\n",
              "      <th>price</th>\n",
              "      <th>property_type</th>\n",
              "      <th>year</th>\n",
              "      <th>bedrooms</th>\n",
              "      <th>bathrooms</th>\n",
              "      <th>parking_space</th>\n",
              "      <th>Shopping_center_id</th>\n",
              "      <th>Distance_to_sc</th>\n",
              "      <th>Train_station_id</th>\n",
              "      <th>Distance_to_train_station</th>\n",
              "      <th>travel_min_to_CBD</th>\n",
              "      <th>Transfer_flag</th>\n",
              "      <th>Hospital_id</th>\n",
              "      <th>Distance_to_hospital</th>\n",
              "      <th>Supermarket_id</th>\n",
              "      <th>Distance_to_supermarket</th>\n",
              "    </tr>\n",
              "  </thead>\n",
              "  <tbody>\n",
              "    <tr>\n",
              "      <th>0</th>\n",
              "      <td>87107</td>\n",
              "      <td>-37.907873</td>\n",
              "      <td>144.991190</td>\n",
              "      <td>8 Cadby Street</td>\n",
              "      <td>33600000</td>\n",
              "      <td>house</td>\n",
              "      <td>2016</td>\n",
              "      <td>4</td>\n",
              "      <td>3</td>\n",
              "      <td>2</td>\n",
              "      <td>SC_015</td>\n",
              "      <td>4.457996</td>\n",
              "      <td>19951</td>\n",
              "      <td>0.924508</td>\n",
              "      <td>21.933333</td>\n",
              "      <td>1</td>\n",
              "      <td>hospital_013</td>\n",
              "      <td>2.323314</td>\n",
              "      <td>S_150</td>\n",
              "      <td>0.651356</td>\n",
              "    </tr>\n",
              "    <tr>\n",
              "      <th>1</th>\n",
              "      <td>65099</td>\n",
              "      <td>-37.813056</td>\n",
              "      <td>145.315607</td>\n",
              "      <td>118 Liverpool Road</td>\n",
              "      <td>4303000</td>\n",
              "      <td>house</td>\n",
              "      <td>2013</td>\n",
              "      <td>4</td>\n",
              "      <td>2</td>\n",
              "      <td>0</td>\n",
              "      <td>SC_022</td>\n",
              "      <td>3.256251</td>\n",
              "      <td>19877</td>\n",
              "      <td>3.163655</td>\n",
              "      <td>54.500000</td>\n",
              "      <td>1</td>\n",
              "      <td>hospital_049</td>\n",
              "      <td>6.227128</td>\n",
              "      <td>S_224</td>\n",
              "      <td>1.300124</td>\n",
              "    </tr>\n",
              "    <tr>\n",
              "      <th>2</th>\n",
              "      <td>68670</td>\n",
              "      <td>-37.855055</td>\n",
              "      <td>145.022366</td>\n",
              "      <td>8 Moorhouse Street</td>\n",
              "      <td>23140000</td>\n",
              "      <td>house</td>\n",
              "      <td>2011</td>\n",
              "      <td>3</td>\n",
              "      <td>2</td>\n",
              "      <td>1</td>\n",
              "      <td>SC_038</td>\n",
              "      <td>2.034227</td>\n",
              "      <td>19945</td>\n",
              "      <td>0.309206</td>\n",
              "      <td>19.846154</td>\n",
              "      <td>1</td>\n",
              "      <td>hospital_012</td>\n",
              "      <td>2.075356</td>\n",
              "      <td>S_235</td>\n",
              "      <td>0.811352</td>\n",
              "    </tr>\n",
              "    <tr>\n",
              "      <th>3</th>\n",
              "      <td>37971</td>\n",
              "      <td>-37.772679</td>\n",
              "      <td>145.025928</td>\n",
              "      <td>127 Grange Road</td>\n",
              "      <td>9814000</td>\n",
              "      <td>house</td>\n",
              "      <td>2011</td>\n",
              "      <td>3</td>\n",
              "      <td>2</td>\n",
              "      <td>2</td>\n",
              "      <td>SC_001</td>\n",
              "      <td>1.493098</td>\n",
              "      <td>19931</td>\n",
              "      <td>0.790158</td>\n",
              "      <td>20.250000</td>\n",
              "      <td>1</td>\n",
              "      <td>hospital_039</td>\n",
              "      <td>1.120798</td>\n",
              "      <td>S_219</td>\n",
              "      <td>1.474455</td>\n",
              "    </tr>\n",
              "    <tr>\n",
              "      <th>4</th>\n",
              "      <td>52209</td>\n",
              "      <td>-37.825393</td>\n",
              "      <td>145.011156</td>\n",
              "      <td>12 Khartoum Street</td>\n",
              "      <td>4807000</td>\n",
              "      <td>house</td>\n",
              "      <td>2016</td>\n",
              "      <td>4</td>\n",
              "      <td>3</td>\n",
              "      <td>1</td>\n",
              "      <td>SC_038</td>\n",
              "      <td>1.708713</td>\n",
              "      <td>19906</td>\n",
              "      <td>0.398048</td>\n",
              "      <td>12.741935</td>\n",
              "      <td>1</td>\n",
              "      <td>hospital_042</td>\n",
              "      <td>1.581068</td>\n",
              "      <td>S_102</td>\n",
              "      <td>1.684290</td>\n",
              "    </tr>\n",
              "  </tbody>\n",
              "</table>\n",
              "</div>"
            ],
            "text/plain": [
              "  property_id        lat  ...  Supermarket_id Distance_to_supermarket\n",
              "0       87107 -37.907873  ...           S_150                0.651356\n",
              "1       65099 -37.813056  ...           S_224                1.300124\n",
              "2       68670 -37.855055  ...           S_235                0.811352\n",
              "3       37971 -37.772679  ...           S_219                1.474455\n",
              "4       52209 -37.825393  ...           S_102                1.684290\n",
              "\n",
              "[5 rows x 20 columns]"
            ]
          },
          "metadata": {
            "tags": []
          },
          "execution_count": 114
        }
      ]
    },
    {
      "cell_type": "code",
      "metadata": {
        "id": "P2lqt3JIdd8f",
        "outputId": "88b37b57-53a1-4060-b27c-033f65d92a42",
        "colab": {
          "base_uri": "https://localhost:8080/",
          "height": 244
        }
      },
      "source": [
        "# check for non direct transfers to CBD\n",
        "real_estate[real_estate['Transfer_flag']==0]"
      ],
      "execution_count": 112,
      "outputs": [
        {
          "output_type": "execute_result",
          "data": {
            "text/html": [
              "<div>\n",
              "<style scoped>\n",
              "    .dataframe tbody tr th:only-of-type {\n",
              "        vertical-align: middle;\n",
              "    }\n",
              "\n",
              "    .dataframe tbody tr th {\n",
              "        vertical-align: top;\n",
              "    }\n",
              "\n",
              "    .dataframe thead th {\n",
              "        text-align: right;\n",
              "    }\n",
              "</style>\n",
              "<table border=\"1\" class=\"dataframe\">\n",
              "  <thead>\n",
              "    <tr style=\"text-align: right;\">\n",
              "      <th></th>\n",
              "      <th>property_id</th>\n",
              "      <th>lat</th>\n",
              "      <th>lng</th>\n",
              "      <th>addr_street</th>\n",
              "      <th>price</th>\n",
              "      <th>property_type</th>\n",
              "      <th>year</th>\n",
              "      <th>bedrooms</th>\n",
              "      <th>bathrooms</th>\n",
              "      <th>parking_space</th>\n",
              "      <th>Shopping_center_id</th>\n",
              "      <th>Distance_to_sc</th>\n",
              "      <th>Train_station_id</th>\n",
              "      <th>Distance_to_train_station</th>\n",
              "      <th>travel_min_to_CBD</th>\n",
              "      <th>Transfer_flag</th>\n",
              "      <th>Hospital_id</th>\n",
              "      <th>Distance_to_hospital</th>\n",
              "      <th>Supermarket_id</th>\n",
              "      <th>Distance_to_supermarket</th>\n",
              "      <th>travel_min_to_flinder</th>\n",
              "    </tr>\n",
              "  </thead>\n",
              "  <tbody>\n",
              "    <tr>\n",
              "      <th>582</th>\n",
              "      <td>1527</td>\n",
              "      <td>-37.791331</td>\n",
              "      <td>144.896175</td>\n",
              "      <td>9 Tait Street</td>\n",
              "      <td>7720000</td>\n",
              "      <td>house</td>\n",
              "      <td>2012</td>\n",
              "      <td>4</td>\n",
              "      <td>3</td>\n",
              "      <td>1</td>\n",
              "      <td>SC_011</td>\n",
              "      <td>2.019357</td>\n",
              "      <td>20027</td>\n",
              "      <td>1.104274</td>\n",
              "      <td>0.0</td>\n",
              "      <td>0</td>\n",
              "      <td>hospital_003</td>\n",
              "      <td>0.627933</td>\n",
              "      <td>S_201</td>\n",
              "      <td>1.060517</td>\n",
              "      <td>NaN</td>\n",
              "    </tr>\n",
              "    <tr>\n",
              "      <th>1020</th>\n",
              "      <td>11446</td>\n",
              "      <td>-37.772579</td>\n",
              "      <td>144.877000</td>\n",
              "      <td>4 Waterford Avenue</td>\n",
              "      <td>9800000</td>\n",
              "      <td>house</td>\n",
              "      <td>2016</td>\n",
              "      <td>3</td>\n",
              "      <td>2</td>\n",
              "      <td>2</td>\n",
              "      <td>SC_052</td>\n",
              "      <td>0.774547</td>\n",
              "      <td>20027</td>\n",
              "      <td>3.145231</td>\n",
              "      <td>0.0</td>\n",
              "      <td>0</td>\n",
              "      <td>hospital_003</td>\n",
              "      <td>2.433850</td>\n",
              "      <td>S_049</td>\n",
              "      <td>1.078910</td>\n",
              "      <td>NaN</td>\n",
              "    </tr>\n",
              "    <tr>\n",
              "      <th>1497</th>\n",
              "      <td>75</td>\n",
              "      <td>-37.831116</td>\n",
              "      <td>144.967880</td>\n",
              "      <td>59/69 Dorcas Street</td>\n",
              "      <td>9900000</td>\n",
              "      <td>house</td>\n",
              "      <td>2009</td>\n",
              "      <td>1</td>\n",
              "      <td>1</td>\n",
              "      <td>1</td>\n",
              "      <td>SC_101</td>\n",
              "      <td>0.924618</td>\n",
              "      <td>19854</td>\n",
              "      <td>1.428310</td>\n",
              "      <td>0.0</td>\n",
              "      <td>0</td>\n",
              "      <td>hospital_022</td>\n",
              "      <td>1.684418</td>\n",
              "      <td>S_016</td>\n",
              "      <td>0.919365</td>\n",
              "      <td>NaN</td>\n",
              "    </tr>\n",
              "    <tr>\n",
              "      <th>1674</th>\n",
              "      <td>1383</td>\n",
              "      <td>-37.787823</td>\n",
              "      <td>144.892085</td>\n",
              "      <td>7/36 Empire St</td>\n",
              "      <td>5440000</td>\n",
              "      <td>house</td>\n",
              "      <td>2015</td>\n",
              "      <td>2</td>\n",
              "      <td>1</td>\n",
              "      <td>1</td>\n",
              "      <td>SC_085</td>\n",
              "      <td>1.618913</td>\n",
              "      <td>20027</td>\n",
              "      <td>1.365652</td>\n",
              "      <td>0.0</td>\n",
              "      <td>0</td>\n",
              "      <td>hospital_003</td>\n",
              "      <td>0.555274</td>\n",
              "      <td>S_201</td>\n",
              "      <td>1.530159</td>\n",
              "      <td>NaN</td>\n",
              "    </tr>\n",
              "  </tbody>\n",
              "</table>\n",
              "</div>"
            ],
            "text/plain": [
              "     property_id        lat  ...  Distance_to_supermarket travel_min_to_flinder\n",
              "582         1527 -37.791331  ...                 1.060517                   NaN\n",
              "1020       11446 -37.772579  ...                 1.078910                   NaN\n",
              "1497          75 -37.831116  ...                 0.919365                   NaN\n",
              "1674        1383 -37.787823  ...                 1.530159                   NaN\n",
              "\n",
              "[4 rows x 21 columns]"
            ]
          },
          "metadata": {
            "tags": []
          },
          "execution_count": 112
        }
      ]
    },
    {
      "cell_type": "code",
      "metadata": {
        "id": "eOTX7XNpeLCv"
      },
      "source": [
        ""
      ],
      "execution_count": null,
      "outputs": []
    }
  ]
}